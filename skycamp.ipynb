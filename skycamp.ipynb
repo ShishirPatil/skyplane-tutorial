{
 "cells": [
  {
   "cell_type": "markdown",
   "metadata": {},
   "source": [
    "<p style=\"text-align:center;\">\n",
    "    <img src=\"https://raw.githubusercontent.com/skyplane-project/skyplane/main/docs/_static/logo-light-mode.png\" width=500>\n",
    "</p>"
   ]
  },
  {
   "cell_type": "markdown",
   "metadata": {
    "pycharm": {
     "name": "#%% md\n"
    }
   },
   "source": [
    "# Welcome to Skyplane!\n",
    "\n",
    "## Skyplane enables fast data transfers between any cloud"
   ]
  },
  {
   "cell_type": "markdown",
   "metadata": {
    "pycharm": {
     "name": "#%% md\n"
    }
   },
   "source": [
    "Skyplane is a tool for blazingly fast bulk data transfers between object stores in the cloud. It provisions a fleet of VMs in the cloud to transfer data in parallel while using compression and bandwidth tiering to reduce cost.\n",
    "\n",
    "Skyplane is:\n",
    "1. 🔥 Blazing fast ([110x faster than AWS DataSync](https://skyplane.org/en/latest/benchmark.html))\n",
    "2. 🤑 Cheap (4x cheaper than rsync)\n",
    "3. 🌐 Universal (AWS, Azure and GCP)\n",
    "\n",
    "You can use Skyplane to transfer data: \n",
    "* between object stores within a cloud provider (e.g. AWS us-east-1 to AWS us-west-2)\n",
    "* between object stores across multiple cloud providers (e.g. AWS us-east-1 to GCP us-central1)\n",
    "* between local storage and cloud object stores (experimental)"
   ]
  },
  {
   "cell_type": "markdown",
   "metadata": {},
   "source": [
    "# Learning outcomes 🎯\n",
    "\n",
    "After completing this notebook, you would have:\n",
    "\n",
    "1. An understand of unix-inspired Skyplane interface.\n",
    "2. Transfered imagenet data from US-EAST-1 (N. Virginia) to EU-WEST-1 (Ireland).\n",
    "3. Compare and contrast `aws s3 cp` with `skyplane cp`\n",
    "4. Terminate the transfer and clean up state."
   ]
  },
  {
   "cell_type": "markdown",
   "metadata": {},
   "source": [
    "# How to use this Tutorial"
   ]
  },
  {
   "cell_type": "markdown",
   "metadata": {},
   "source": [
    "These notebooks serve as a guide to Skyplane. At any point if you happen to get stuck, feel free to ping us on `#skyplane` channel on the [Skycamp slack.](https://join.slack.com/t/skycamp2022/shared_invite/zt-1gsrgky1z-iSFVEEOMSUD7Dd7B5syCsA)\n",
    "\n",
    "We will describe what we are doing in this notebook. The commands and the example response are included. We highly recommend you open an terminal and run commands yourself. These points will be highlighted with this **icon**:\n",
    "\n",
    "### 💻 - Run commands in an interactive terminal window\n",
    "\n",
    "You can use this icon as a hint to know when to switch away from the current notebook and edit a file or open a terminal. We also have example outputs that you can use to ensure consistency. \n",
    "\n",
    "> **💡 Hint** - If you're using jupyter lab, you can create a terminal in your browser by going to `File -> New -> Terminal`"
   ]
  },
  {
   "cell_type": "markdown",
   "metadata": {},
   "source": [
    "# Preflight  - Initializing cloud credentials"
   ]
  },
  {
   "cell_type": "markdown",
   "metadata": {},
   "source": [
    "Before we start this tutorial, it is important to configure skyplane with your AWS credentials. For this tutorial, have already preloaded your VMs with a default credential. \n",
    "\n",
    "> **💡 Hint** - If you run into any issues, please contact one of the Skyplane team members immediately. This step is critical to follow through the tutorial."
   ]
  },
  {
   "cell_type": "markdown",
   "metadata": {},
   "source": [
    "💻 Configure Skyplane with AWS credentials. Run the below command in your terminal and choose `Y` only for AWS, and `n` for GCP and Azure.\n",
    "\n",
    "`$skyplane init`\n",
    "\n",
    "```\n",
    " _____ _   ____   _______ _       ___   _   _  _____ \n",
    "/  ___| | / /\\ \\ / / ___ \\ |     / _ \\ | \\ | ||  ___|\n",
    "\\ `--.| |/ /  \\ V /| |_/ / |    / /_\\ \\|  \\| || |__  \n",
    " `--. \\    \\   \\ / |  __/| |    |  _  || . ` ||  __| \n",
    "/\\__/ / |\\  \\  | | | |   | |____| | | || |\\  || |___ \n",
    "\\____/\\_| \\_/  \\_/ \\_|   \\_____/\\_| |_/\\_| \\_/\\____/\n",
    "\n",
    "03:37:54 [DEBUG] Found existing configuration file at /root/.skyplane/config, \n",
    "loading\n",
    "\n",
    "(1) Configuring AWS:\n",
    "    Do you want to configure AWS support in Skyplane? [Y/n]:\n",
    "    Loaded AWS credentials from the AWS CLI [IAM access key ID: ...ZEXYJW]\n",
    "    AWS region config file saved to /root/.skyplane/aws_config\n",
    "\n",
    "(2) Configuring Azure:\n",
    "    Do you want to configure Azure support in Skyplane? [Y/n]: n\n",
    "    Disabling Azure support\n",
    "\n",
    "(3) Configuring GCP:\n",
    "    Do you want to configure GCP support in Skyplane? [Y/n]: n\n",
    "    Disabling Google Cloud support\n",
    "\n",
    "Config file saved to /root/.skyplane/config\n",
    "To disable performance logging info: \n",
    "https://skyplane.org/en/latest/performance_stats_collection.html\n",
    "```\n",
    "\n",
    "\n"
   ]
  },
  {
   "cell_type": "markdown",
   "metadata": {},
   "source": [
    "# Exercise: Transferring Data with Skyplane\n",
    "\n",
    "The core of Skyplane is based around the `cp` command. Suppose you are working with the Stable Diffusion neural network. You’ve just gotten a fresh batch of data, but it is in us-east-1, while your network is in eu-west-1. Skyplane can help you efficiently transfer this data over to wherever your neural network may be so that you can train your model. Let’s prepare for a transfer by first initializing buckets in a few different cloud regions in AWS."
   ]
  },
  {
   "cell_type": "markdown",
   "metadata": {},
   "source": [
    "# Creating Buckets"
   ]
  },
  {
   "cell_type": "markdown",
   "metadata": {},
   "source": [
    "### Setting up AWS in the Source region\n",
    "\n",
    "First, let’s create a bucket in your source AWS region to store the data for the neural network.\n",
    "\n",
    "`aws s3 mb s3://skycamp-[name]-diffusion-data --region eu-west-1`"
   ]
  },
  {
   "cell_type": "markdown",
   "metadata": {},
   "source": [
    "### Setting up AWS S3 in the destination region\n",
    "\n",
    "Let’s also create the bucket in your destination AWS region to store a partial subset of the data. \n",
    "\n",
    "`aws s3 mb s3://skycamp-[name]-diffusion-backup-data --region eu-west-1`\n",
    "\n",
    "Now, run this command to copy over the starter data for this bucket. \n",
    "\n",
    "`aws s3 cp --recursive s3://stable-diffusion-partial-data-eu-west-1 s3://skycamp-[name]-diffusion-backup-data`\n"
   ]
  },
  {
   "cell_type": "markdown",
   "metadata": {},
   "source": [
    "# Copying data between AWS regions"
   ]
  },
  {
   "cell_type": "markdown",
   "metadata": {},
   "source": [
    "## Transferring data between AWS regions with aws s3 cp"
   ]
  },
  {
   "cell_type": "markdown",
   "metadata": {},
   "source": [
    "Each cloud provider has dedicated tools to move data between cloud regions. Let’s try transferring over the data using AWS’s built in cp command:\n",
    "\n",
    "`aws s3 cp –recursive s3://stable-diffusion-data s3://skycamp-[name]-diffusion-data`\n",
    "\n",
    "This will take a long time to complete. Feel free to interrupt the command. Notice that it copies data at under 25 MiB/s.\n"
   ]
  },
  {
   "cell_type": "markdown",
   "metadata": {},
   "source": [
    "## Transferring data between AWS regions with skyplane cp"
   ]
  },
  {
   "cell_type": "markdown",
   "metadata": {},
   "source": [
    "Let’s delete the data in the bucket:\n",
    "\n",
    "`aws s3 rm --recursive s3://skycamp-[name]-diffusion-data`\n"
   ]
  },
  {
   "cell_type": "markdown",
   "metadata": {},
   "source": [
    "We will now redo this transfer, but this time by using Skyplane. Compare the time that it takes!\n",
    "\n",
    "`skyplane cp -n 4 -r s3://stable-diffusion-data s3://skycamp-[name]-diffusion-data`\n"
   ]
  },
  {
   "cell_type": "markdown",
   "metadata": {},
   "source": [
    "# Syncing data between AWS regions\n",
    "Now, let’s suppose that you have a bucket storing a backup of your dataset, and it already has some of the data there.\n"
   ]
  },
  {
   "cell_type": "markdown",
   "metadata": {},
   "source": [
    "## Syncing with aws s3 sync"
   ]
  },
  {
   "cell_type": "markdown",
   "metadata": {},
   "source": [
    "Let’s try using AWS’s built-in sync command to update the weights.\n",
    "\n",
    "`aws s3 sync s3://skycamp-[name]-diffusion-data s3://skycamp-[name]-diffusion-backup-data`\n",
    "\n",
    "\n",
    "Make sure to record the time it took! \tAgain, feel free to interrupt it once you’ve gotten a sense of the throughput. \n"
   ]
  },
  {
   "cell_type": "markdown",
   "metadata": {},
   "source": [
    "## Syncing with Skyplane sync"
   ]
  },
  {
   "cell_type": "markdown",
   "metadata": {},
   "source": [
    "First, let’s reset the bucket so that we can try it out with Skyplane. \n",
    "\n",
    "`aws s3 rm –recursive s3://skycamp-[name]-diffusion-backup-data`\n",
    "    \n",
    "`aws s3 cp –recursive s3://stable-diffusion-partial-data s3://skycamp-[name]-diffusion-backup-data`\n"
   ]
  },
  {
   "cell_type": "markdown",
   "metadata": {},
   "source": [
    "Now, let’s use Skyplane’s sync command to update the weights, and again compare the time that it takes. \n",
    "\n",
    "\n",
    "`skyplane sync s3://skycamp-[name]-diffusion-data s3://skycamp-[name]-diffusion-backup-data`\n"
   ]
  },
  {
   "cell_type": "markdown",
   "metadata": {},
   "source": [
    "## 💻 Terminate your cluster!"
   ]
  },
  {
   "cell_type": "markdown",
   "metadata": {},
   "source": [
    "Finally, just to make sure that we don't have any instances running that might be burning up money, let's quickly deprovision everything.\n",
    "\n",
    "`skyplane deprovision`"
   ]
  },
  {
   "cell_type": "markdown",
   "metadata": {},
   "source": [
    "## 🎉 Congratulations! Your plane has now landed. Skyplane is an open sourced project. Feel free to use Skyplane for all your data mobility needs!\n"
   ]
  },
  {
   "cell_type": "markdown",
   "metadata": {},
   "source": [
    "Acknowledgement: Thanks to [Skypilot](https://github.com/romilbhardwaj/skypilot-tutorial/) for the notebook template."
   ]
  }
 ],
 "metadata": {
  "kernelspec": {
   "display_name": "Python 3 (ipykernel)",
   "language": "python",
   "name": "python3"
  },
  "language_info": {
   "codemirror_mode": {
    "name": "ipython",
    "version": 3
   },
   "file_extension": ".py",
   "mimetype": "text/x-python",
   "name": "python",
   "nbconvert_exporter": "python",
   "pygments_lexer": "ipython3",
   "version": "3.9.13"
  }
 },
 "nbformat": 4,
 "nbformat_minor": 4
}
