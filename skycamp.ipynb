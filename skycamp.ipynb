{
 "cells": [
  {
   "cell_type": "markdown",
   "metadata": {},
   "source": [
    "<p style=\"text-align:center;\">\n",
    "    <img src=\"https://raw.githubusercontent.com/skyplane-project/skyplane/main/docs/_static/logo-light-mode.png\" width=500>\n",
    "</p>"
   ]
  },
  {
   "cell_type": "markdown",
   "metadata": {
    "pycharm": {
     "name": "#%% md\n"
    }
   },
   "source": [
    "# Welcome to Skyplane!\n",
    "\n",
    "## Skyplane enables fast data transfers between any cloud"
   ]
  },
  {
   "cell_type": "markdown",
   "metadata": {
    "pycharm": {
     "name": "#%% md\n"
    }
   },
   "source": [
    "Skyplane is a tool for blazingly fast bulk data transfers between object stores in the cloud. It provisions a fleet of VMs in the cloud to transfer data in parallel while using compression and bandwidth tiering to reduce cost.\n",
    "\n",
    "Skyplane is:\n",
    "1. 🔥 Blazing fast ([110x faster than AWS DataSync](https://skyplane.org/en/latest/benchmark.html))\n",
    "2. 🤑 Cheap (4x cheaper than rsync)\n",
    "3. 🌐 Universal (AWS, Azure and GCP)\n",
    "\n",
    "You can use Skyplane to transfer data: \n",
    "* between object stores within a cloud provider (e.g. AWS us-east-1 to AWS us-west-2)\n",
    "* between object stores across multiple cloud providers (e.g. AWS us-east-1 to GCP us-central1)\n",
    "* between local storage and cloud object stores (experimental)"
   ]
  },
  {
   "cell_type": "markdown",
   "metadata": {},
   "source": [
    "# Exercises\n",
    "\n",
    "This notebook consists of 4 exercises:\n",
    "\n",
    "1. Exercise 1: Copying data between AWS regions\n",
    "2. Exercise 2: Let's try the same transfer with Skyplane\n",
    "3. Exercise 3: Let's scale up transfer bandwidth with Skyplane\n",
    "4. Exercise 4: We will now try another Skyplane feature - syncing data between AWS regions\n",
    "\n",
    "# Learning outcomes 🎯\n",
    "\n",
    "After completing this notebook, you would have:\n",
    "\n",
    "1. An understand of unix-inspired Skyplane interface\n",
    "2. Transfered data for a ML workload from AWS S3 object stores in US-EAST-1 (N. Virginia) to EU-WEST-1 (Ireland)\n",
    "3. Compare and contrast `aws s3 cp` with `skyplane cp`\n",
    "4. Terminate the transfer and clean up state\n",
    "\n"
   ]
  },
  {
   "cell_type": "markdown",
   "metadata": {},
   "source": [
    "# How to use this Tutorial"
   ]
  },
  {
   "cell_type": "markdown",
   "metadata": {},
   "source": [
    "These notebooks serve as a guide to Skyplane. At any point if you happen to get stuck, feel free to ping us on `#skyplane` channel on the [Skycamp slack.](https://join.slack.com/t/skycamp2022/shared_invite/zt-1gsrgky1z-iSFVEEOMSUD7Dd7B5syCsA)\n",
    "\n",
    "We will describe what we are doing in this notebook. The commands and the example response are included. We highly recommend you open an terminal and run commands yourself. \n",
    "\n",
    "### 💻 - Run commands in an interactive terminal window\n",
    "\n",
    "You can use this icon as a hint to know when to switch away from the current notebook and edit a file or open a terminal. We also have example outputs that you can use to ensure consistency. \n"
   ]
  },
  {
   "cell_type": "markdown",
   "metadata": {},
   "source": [
    "# How to open a Terminal\n",
    "\n",
    "If you're using jupyter lab, you can create a terminal in your browser by going to `File -> New -> Terminal`"
   ]
  },
  {
   "cell_type": "markdown",
   "metadata": {},
   "source": [
    "# Preflight  - Initializing cloud credentials"
   ]
  },
  {
   "cell_type": "markdown",
   "metadata": {},
   "source": [
    "Before we start this tutorial, we have few pre-flight checks:\n",
    "\n",
    "### Let's ensure we have the latest notebook"
   ]
  },
  {
   "cell_type": "code",
   "execution_count": null,
   "metadata": {},
   "outputs": [],
   "source": [
    "# Please run this cell\n",
    "!git pull --quiet"
   ]
  },
  {
   "cell_type": "markdown",
   "metadata": {},
   "source": [
    "### Update to the latest Skyplane pip package"
   ]
  },
  {
   "cell_type": "code",
   "execution_count": null,
   "metadata": {},
   "outputs": [],
   "source": [
    "# Please run this cell\n",
    "!pip install -U \"git+https://github.com/skyplane-project/skyplane.git@skycamp-tutorial#egg=skyplane[aws]\""
   ]
  },
  {
   "cell_type": "markdown",
   "metadata": {},
   "source": [
    "### Configure Skyplane with AWS credentials. \n",
    "\n",
    "#### <span style=\"color:red\">Choose `Y` only for AWS, and `n` for GCP and Azure.</span>\n",
    "\n",
    "💻 `skyplane init`\n",
    "\n",
    "```\n",
    " _____ _   ____   _______ _       ___   _   _  _____ \n",
    "/  ___| | / /\\ \\ / / ___ \\ |     / _ \\ | \\ | ||  ___|\n",
    "\\ `--.| |/ /  \\ V /| |_/ / |    / /_\\ \\|  \\| || |__  \n",
    " `--. \\    \\   \\ / |  __/| |    |  _  || . ` ||  __| \n",
    "/\\__/ / |\\  \\  | | | |   | |____| | | || |\\  || |___ \n",
    "\\____/\\_| \\_/  \\_/ \\_|   \\_____/\\_| |_/\\_| \\_/\\____/\n",
    "\n",
    "03:37:54 [DEBUG] Found existing configuration file at /root/.skyplane/config, \n",
    "loading\n",
    "\n",
    "(1) Configuring AWS:\n",
    "    Do you want to configure AWS support in Skyplane? [Y/n]:\n",
    "    Loaded AWS credentials from the AWS CLI [IAM access key ID: ...ZEXYJW]\n",
    "    AWS region config file saved to /root/.skyplane/aws_config\n",
    "\n",
    "(2) Configuring Azure:\n",
    "    Do you want to configure Azure support in Skyplane? [Y/n]: n\n",
    "    Disabling Azure support\n",
    "\n",
    "(3) Configuring GCP:\n",
    "    Do you want to configure GCP support in Skyplane? [Y/n]: n\n",
    "    Disabling Google Cloud support\n",
    "\n",
    "Config file saved to /root/.skyplane/config\n",
    "To disable performance logging info: \n",
    "https://skyplane.org/en/latest/performance_stats_collection.html\n",
    "```\n",
    "\n",
    "\n",
    "> **💡 Hint** - If you run into any issues, please contact one of the Skyplane team members immediately. This step is critical to follow through the tutorial."
   ]
  },
  {
   "cell_type": "markdown",
   "metadata": {},
   "source": [
    "# Transferring Data with Skyplane\n",
    "\n",
    "<p style=\"text-align:center;\">\n",
    "    <img src=\"./assets/skycamp-art.png\" width=700>\n",
    "</p>"
   ]
  },
  {
   "cell_type": "markdown",
   "metadata": {},
   "source": [
    "The core of Skyplane is based around the `cp` command. Suppose you want to train the Stable Diffusion neural network. You’ve just gotten a fresh batch of [LAION](https://laion.ai/blog/laion-400-open-dataset/) dataset, but it is in us-east-1, while your network is in eu-west-1. Skyplane can help you efficiently transfer this data over to wherever your neural network may be so that you can train your model. Let’s prepare for a transfer by first initializing buckets in a few different cloud regions in AWS."
   ]
  },
  {
   "cell_type": "markdown",
   "metadata": {},
   "source": [
    "# Creating Buckets"
   ]
  },
  {
   "cell_type": "markdown",
   "metadata": {},
   "source": [
    "### Setting up AWS in the Destination region\n",
    "\n",
    "First, let’s create a bucket in your source AWS region to store the data for the neural network.\n",
    "\n",
    "> **💡 Hint** - Reminder to replace [name] with a unique string. e.g., \"edcvr\"\n",
    "\n",
    "💻 `aws s3 mb s3://skycamp-diffusion-data-[name] --region eu-west-1`\n",
    "```\n",
    "make_bucket: skycamp-diffusion-data-[name]\n",
    "```"
   ]
  },
  {
   "cell_type": "markdown",
   "metadata": {},
   "source": [
    "# Exercise 1: Copying data between AWS regions"
   ]
  },
  {
   "cell_type": "markdown",
   "metadata": {},
   "source": [
    "Transferring data between AWS regions with `aws s3 cp`"
   ]
  },
  {
   "cell_type": "markdown",
   "metadata": {},
   "source": [
    "Each cloud provider has dedicated tools to move data between cloud regions. Let’s try transferring over the data using AWS’s built in cp command:\n",
    "\n",
    "💻 `aws s3 cp --recursive s3://laion-400m s3://skycamp-diffusion-data-[name]`\n",
    "\n",
    "```\n",
    "copy: s3://stable-diffusion-data/part-00000-5b54c5d5-bbcf-484d-a2ce-0d6f73df1a36-c000.snappy.parquet to s3://skycamp-anton-diffusion-data/part-00000-5b54c5d5-bbcf-484d-a2ce-0d6f73df1a36-c000.snappy.parquet\n",
    "copy: s3://stable-diffusion-data/part-00002-5b54c5d5-bbcf-484d-a2ce-0d6f73df1a36-c000.snappy.parquet to s3://skycamp-anton-diffusion-data/part-00002-5b54c5d5-bbcf-484d-a2ce-0d6f73df1a36-c000.snappy.parquet\n",
    "copy: s3://stable-diffusion-data/part-00005-5b54c5d5-bbcf-484d-a2ce-0d6f73df1a36-c000.snappy.parquet to s3://skycamp-anton-diffusion-data/part-00005-5b54c5d5-bbcf-484d-a2ce-0d6f73df1a36-c000.snappy.parquet\n",
    "copy: s3://stable-diffusion-data/part-00008-5b54c5d5-bbcf-484d-a2ce-0d6f73df1a36-c000.snappy.parquet to s3://skycamp-anton-diffusion-data/part-00008-5b54c5d5-bbcf-484d-a2ce-0d6f73df1a36-c000.snappy.parquet\n",
    "copy: s3://stable-diffusion-data/part-00001-5b54c5d5-bbcf-484d-a2ce-0d6f73df1a36-c000.snappy.parquet to s3://skycamp-anton-diffusion-data/part-00001-5b54c5d5-bbcf-484d-a2ce-0d6f73df1a36-c000.snappy.parquet\n",
    "Completed 4.2 GiB/~15.7 GiB (36.9 MiB/s) with ~12 file(s) remaining (calculating...)\n",
    "\n",
    "```\n",
    "\n",
    "### This will take a long time to complete. Feel free to interrupt the command. Notice that it copies data at under 25 MiB/s.\n"
   ]
  },
  {
   "cell_type": "markdown",
   "metadata": {},
   "source": [
    "# Exercise 2: Let's try the same transfer with Skyplane"
   ]
  },
  {
   "cell_type": "markdown",
   "metadata": {},
   "source": [
    "💻 `skyplane cp --recursive s3://laion-400m s3://skycamp-diffusion-data-[name]`\n",
    "\n",
    "```\n",
    " _____ _   ____   _______ _       ___   _   _  _____\n",
    "/  ___| | / /\\ \\ / / ___ \\ |     / _ \\ | \\ | ||  ___|\n",
    "\\ `--.| |/ /  \\ V /| |_/ / |    / /_\\ \\|  \\| || |__\n",
    " `--. \\    \\   \\ / |  __/| |    |  _  || . ` ||  __|\n",
    "/\\__/ / |\\  \\  | | | |   | |____| | | || |\\  || |___\n",
    "\\____/\\_| \\_/  \\_/ \\_|   \\_____/\\_| |_/\\_| \\_/\\____/\n",
    "\n",
    "\n",
    "Will transfer 32 objects totaling 35.90GB from aws:us-east-1 to aws:us-east-1\n",
    "    VMs to provision: 1x aws:us-east-1\n",
    "    part-00000-5b54c5d5-bbcf-484d-a2ce-0d6f73df1a36-c000.snappy.parquet => part-00000-5b54c5d5-bbcf-484d-a2ce-0d6f73df1a36-c000.snappy.parquet\n",
    "    part-00001-5b54c5d5-bbcf-484d-a2ce-0d6f73df1a36-c000.snappy.parquet => part-00001-5b54c5d5-bbcf-484d-a2ce-0d6f73df1a36-c000.snappy.parquet\n",
    "    ...\n",
    "a2ce-0d6f73df1a36-c000.snappy.parquet\n",
    "    part-00030-5b54c5d5-bbcf-484d-a2ce-0d6f73df1a36-c000.snappy.parquet => part-00030-5b54c5d5-bbcf-484d-a2ce-0d6f73df1a36-c000.snappy.parquet\n",
    "\n",
    "Continue? [Y/n]: Y\n",
    "Transfer starting (Tip: Enable auto-confirmation with `skyplane config set autoconfirm true`)\n",
    "\n",
    "Storing debug information for transfer in /tmp/skyplane/transfer_logs/20221018_205648/client.log\n",
    "✓ Initializing cloud keys (3/3) in 2.84s\n",
    "✓ Provisioning gateway instances (1/1) in 34.48s\n",
    "✓ Installing gateway package (1/1) in 12.41s\n",
    "🚀 35.90GB transfer job launched\n",
    "  Transfer progress (completing multi-part uploads) ━━━━━━━━━━━━━━━━━━━━━━━━━━━━━━━━━━━━━━━━ 35.9/35.9 GiB 602.0 MB/s 0:00:00\n",
    "✓ Deprovisioning instances (1/1) in 2.42s\n",
    "⠙ Verifying all files were copied\n",
    "\n",
    "✅ Transfer completed successfully\n",
    "Transfer runtime: 61.94s, Throughput: 4.64Gbps\n",
    "\n",
    "```\n"
   ]
  },
  {
   "cell_type": "markdown",
   "metadata": {},
   "source": [
    "##  💡  Observe skyplane significantly reduces the time to move data"
   ]
  },
  {
   "cell_type": "markdown",
   "metadata": {},
   "source": [
    "# Exercise 3: Let's scale up transfer bandwidth with Skyplane"
   ]
  },
  {
   "cell_type": "markdown",
   "metadata": {},
   "source": [
    "💻 `skyplane cp -n 4 --recursive s3://laion-400m s3://skycamp-diffusion-data-[name]`\n",
    "\n",
    "```\n",
    " _____ _   ____   _______ _       ___   _   _  _____ \n",
    "/  ___| | / /\\ \\ / / ___ \\ |     / _ \\ | \\ | ||  ___|\n",
    "\\ `--.| |/ /  \\ V /| |_/ / |    / /_\\ \\|  \\| || |__  \n",
    " `--. \\    \\   \\ / |  __/| |    |  _  || . ` ||  __| \n",
    "/\\__/ / |\\  \\  | | | |   | |____| | | || |\\  || |___ \n",
    "\\____/\\_| \\_/  \\_/ \\_|   \\_____/\\_| |_/\\_| \\_/\\____/\n",
    "\n",
    "\n",
    "Will transfer 32 objects totaling 53.75GB from aws:us-east-1 to aws:eu-west-1\n",
    "    VMs to provision: 4x aws:eu-west-1, 4x aws:us-east-1\n",
    "    Estimated egress cost: $1.08 at $0.02/GB\n",
    "    part-00000-5b54c5d5-bbcf-484d-a2ce-0d6f73df1a36-c000.snappy.parquet => part-00000-5b54c5d5-bbcf-484d-a2ce-0d6f73df1a36-c000.snappy.parquet\n",
    "    part-00001-5b54c5d5-bbcf-484d-a2ce-0d6f73df1a36-c000.snappy.parquet => part-00001-5b54c5d5-bbcf-484d-a2ce-0d6f73df1a36-c000.snappy.parquet\n",
    "    ...\n",
    "    part-00031-5b54c5d5-bbcf-484d-a2ce-0d6f73df1a36-c000.snappy.parquet => part-00031-5b54c5d5-bbcf-484d-a2ce-0d6f73df1a36-c000.snappy.parquet\n",
    "Continue? [Y/n]: Y\n",
    "Transfer starting (Tip: Enable auto-confirmation with `skyplane config set autoconfirm true`)\n",
    "\n",
    "Storing debug information for transfer in /tmp/skyplane/transfer_logs/20221019_020117/client.log\n",
    "✓ Initializing cloud keys (3/3) in 3.79s\n",
    "✓ Provisioning gateway instances (8/8) in 43.82s\n",
    "✓ Installing gateway package (8/8) in 28.26s\n",
    "🚀 53.75GB transfer job launched\n",
    "  Transfer progress (completing multi-part uploads) ━━━━━━━━━━━━━━━━━━━━━━━━━━━━━━━━━━━━━━━━ 53.8/53.8 GiB 2.0 GB/s 0:00:00\n",
    "Compression saved 0.20% of egress fees\n",
    "✓ Deprovisioning instances (8/8) in 6.62s\n",
    "⠸ Verifying all files were copied\n",
    "\n",
    "✅ Transfer completed successfully\n",
    "Transfer runtime: 33.09s, Throughput: 12.99Gbps\n",
    "```"
   ]
  },
  {
   "cell_type": "markdown",
   "metadata": {},
   "source": [
    "##  💡  Observe skyplane enables you to scale up transfer throughput by paralellizing data between multiple VMs"
   ]
  },
  {
   "cell_type": "markdown",
   "metadata": {},
   "source": [
    "---"
   ]
  },
  {
   "cell_type": "markdown",
   "metadata": {},
   "source": [
    "# Exercise 4: We will now try another Skyplane feature - syncing data between AWS regions\n",
    "Now, let’s suppose that you have a bucket storing a backup of your dataset, and it already has some of the data there.\n"
   ]
  },
  {
   "cell_type": "markdown",
   "metadata": {},
   "source": [
    "Let’s use Skyplane’s sync command to update the weights, and again compare the time that it takes. \n",
    "\n",
    "\n",
    "💻 `skyplane sync s3://laion-400m s3://skycamp-diffusion-data-[name]`\n",
    "\n",
    "```\n",
    " _____ _   ____   _______ _       ___   _   _  _____ \n",
    "/  ___| | / /\\ \\ / / ___ \\ |     / _ \\ | \\ | ||  ___|\n",
    "\\ `--.| |/ /  \\ V /| |_/ / |    / /_\\ \\|  \\| || |__  \n",
    " `--. \\    \\   \\ / |  __/| |    |  _  || . ` ||  __| \n",
    "/\\__/ / |\\  \\  | | | |   | |____| | | || |\\  || |___ \n",
    "\\____/\\_| \\_/  \\_/ \\_|   \\_____/\\_| |_/\\_| \\_/\\____/\n",
    "\n",
    "⠹ Querying objects in skycamp-diffusion-data-anton\n",
    "No objects need updating. Exiting...\n",
    "```"
   ]
  },
  {
   "cell_type": "markdown",
   "metadata": {},
   "source": [
    "---"
   ]
  },
  {
   "cell_type": "markdown",
   "metadata": {},
   "source": [
    "## 💻 Terminate your cluster!"
   ]
  },
  {
   "cell_type": "markdown",
   "metadata": {},
   "source": [
    "Finally, just to make sure that we don't have any instances running that might be burning up money, let's quickly deprovision everything.\n",
    "\n",
    "💻 `skyplane deprovision`\n",
    "\n",
    "```\n",
    "No instances to deprovision\n",
    "✓ Removing IPs from VPCs (4/4) in 2.05s\n",
    "\n",
    "```"
   ]
  },
  {
   "cell_type": "markdown",
   "metadata": {},
   "source": [
    "## 🎉 Congratulations! Your plane has now landed. Skyplane is an open sourced project. Feel free to use Skyplane for all your data mobility needs!\n"
   ]
  },
  {
   "attachments": {},
   "cell_type": "markdown",
   "metadata": {},
   "source": [
    "#### Eager to learn more? \n",
    "\n",
    "#### Feel free to play-around with the [Skyplane optimizer](https://optimizer.skyplane.org/), read our NSDI 2023 [paper](https://arxiv.org/abs/2210.07259), or browse through our GitHub [repository](https://github.com/skyplane-project/skyplane)."
   ]
  },
  {
   "cell_type": "markdown",
   "metadata": {},
   "source": [
    "Acknowledgement: Thanks to [Skypilot](https://github.com/romilbhardwaj/skypilot-tutorial/) for the notebook template."
   ]
  }
 ],
 "metadata": {
  "kernelspec": {
   "display_name": "Python 3 (ipykernel)",
   "language": "python",
   "name": "python3"
  },
  "language_info": {
   "codemirror_mode": {
    "name": "ipython",
    "version": 3
   },
   "file_extension": ".py",
   "mimetype": "text/x-python",
   "name": "python",
   "nbconvert_exporter": "python",
   "pygments_lexer": "ipython3",
   "version": "3.10.2"
  }
 },
 "nbformat": 4,
 "nbformat_minor": 4
}
