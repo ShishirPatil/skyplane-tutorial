{
 "cells": [
  {
   "cell_type": "markdown",
   "metadata": {},
   "source": [
    "<p style=\"text-align:center;\">\n",
    "    <img src=\"https://raw.githubusercontent.com/skyplane-project/skyplane/main/docs/_static/logo-light-mode.png\" width=500>\n",
    "</p>"
   ]
  },
  {
   "cell_type": "markdown",
   "metadata": {
    "pycharm": {
     "name": "#%% md\n"
    }
   },
   "source": [
    "# Welcome to Skyplane!\n",
    "\n",
    "## Skyplane enables fast data transfers between any cloud"
   ]
  },
  {
   "cell_type": "markdown",
   "metadata": {
    "pycharm": {
     "name": "#%% md\n"
    }
   },
   "source": [
    "Skyplane is a tool for blazingly fast bulk data transfers between object stores in the cloud. It provisions a fleet of VMs in the cloud to transfer data in parallel while using compression and bandwidth tiering to reduce cost.\n",
    "\n",
    "Skyplane is:\n",
    "1. 🔥 Blazing fast ([110x faster than AWS DataSync](https://skyplane.org/en/latest/benchmark.html))\n",
    "2. 🤑 Cheap (4x cheaper than rsync)\n",
    "3. 🌐 Universal (AWS, Azure, GCP, IBMCloud, and Cloudflare R2)\n",
    "\n",
    "You can use Skyplane to transfer data: \n",
    "* between object stores within a cloud provider (e.g. AWS us-east-1 to AWS us-west-2)\n",
    "* between object stores across multiple cloud providers (e.g. AWS us-east-1 to GCP us-central1)\n",
    "* between local storage and cloud object stores (experimental)"
   ]
  },
  {
   "cell_type": "markdown",
   "metadata": {},
   "source": [
    "# Exercises\n",
    "\n",
    "This notebook consists of 4 exercises:\n",
    "\n",
    "1. Exercise 1: Copying data with AWS \n",
    "2. Exercise 2: Copying data with Skyplane \n",
    "3. Exercise 3: Copying data to multiple destinations (multicast) \n",
    "5. Exercise 4: Cleanup \n",
    "\n",
    "# Learning outcomes 🎯\n",
    "\n",
    "After completing this notebook, you would have:\n",
    "\n",
    "1. An understand the Skyplane API\n",
    "2. Transfered data for a ML model from AWS S3 object stores in US-EAST-1 (N. Virginia) to EU-WEST-1 (Ireland)\n",
    "3. Compare and contrast `aws s3 cp` with Skyplane\n",
    "4. Terminate the transfer and clean up state\n",
    "\n"
   ]
  },
  {
   "cell_type": "markdown",
   "metadata": {},
   "source": [
    "# How to use this Tutorial"
   ]
  },
  {
   "cell_type": "markdown",
   "metadata": {},
   "source": [
    "These notebooks serve as a guide to Skyplane. At any point if you happen to get stuck, feel free to ping us on `#skyplane` channel on the [Skycamp slack.](https://join.slack.com/t/skycamp2023/shared_invite/zt-25axzytwn-y5AR~Bx2nqm4Iec6jlq3JA)\n"
   ]
  },
  {
   "cell_type": "markdown",
   "metadata": {},
   "source": [
    "### Let's ensure we have the latest notebook"
   ]
  },
  {
   "cell_type": "code",
   "execution_count": null,
   "metadata": {},
   "outputs": [],
   "source": [
    "# Please run this cell\n",
    "!git pull --quiet"
   ]
  },
  {
   "cell_type": "markdown",
   "metadata": {},
   "source": [
    "### Update to the latest Skyplane pip package"
   ]
  },
  {
   "cell_type": "code",
   "execution_count": null,
   "metadata": {},
   "outputs": [],
   "source": [
    "!pip uninstall -y skyplane"
   ]
  },
  {
   "cell_type": "code",
   "execution_count": null,
   "metadata": {},
   "outputs": [],
   "source": [
    "# Please run this cell\n",
    "!pip install -U \"git+https://github.com/skyplane-project/skyplane.git@skycamp-2023#egg=skyplane[aws]\""
   ]
  },
  {
   "cell_type": "code",
   "execution_count": null,
   "metadata": {},
   "outputs": [],
   "source": [
    "!pip install ipywidgets"
   ]
  },
  {
   "cell_type": "markdown",
   "metadata": {},
   "source": [
    "### Configure Skyplane with AWS credentials.\n"
   ]
  },
  {
   "cell_type": "markdown",
   "metadata": {},
   "source": [
    "# Transferring Data with Skyplane\n",
    "\n",
    "<p style=\"text-align:center;\">\n",
    "    <img src=\"./assets/unicast.jpg\" width=700>\n",
    "</p>"
   ]
  },
  {
   "cell_type": "markdown",
   "metadata": {},
   "source": [
    "The core of Skyplane is based around the `cp` command. Suppose you want to transfer a fine-tuned [Gorilla](https://github.com/ShishirPatil/gorilla) model from one region to another to be accessible to a cross-regional serving cluster. Skyplane can help you efficiently transfer this data so you model weights are accessible accross multiple regions.  Let’s prepare for a transfer by first initializing buckets in a few different cloud regions in AWS."
   ]
  },
  {
   "cell_type": "markdown",
   "metadata": {},
   "source": [
    "# Creating Buckets"
   ]
  },
  {
   "cell_type": "markdown",
   "metadata": {},
   "source": [
    "### Setting up AWS credentials "
   ]
  },
  {
   "cell_type": "markdown",
   "metadata": {},
   "source": [
    "💻 `aws configure`\n",
    "```\n",
    "AWS Access Key ID [****************ZAWO]: \n",
    "AWS Secret Access Key [****************WtGD]: \n",
    "Default region name [us-east-1]: \n",
    "Default output format [json]: \n",
    "```"
   ]
  },
  {
   "cell_type": "markdown",
   "metadata": {},
   "source": [
    "### Setting up AWS in the Destination region\n",
    "\n",
    "First, let’s create a bucket in the destination region `aws:ap-south-1` to store the model weights. \n",
    "\n",
    "> **💡 Hint** - Reminder to replace [name] with a unique string. e.g., \"edcvr\"\n",
    "\n",
    "\n",
    "💻 `aws s3 mb s3://gorilla-weights-[name] --region ap-south-1`\n",
    "```\n",
    "make_bucket: gorilla-weights-[name]\n",
    "```"
   ]
  },
  {
   "cell_type": "markdown",
   "metadata": {},
   "source": [
    "# Exercise 1: Copying data between AWS regions"
   ]
  },
  {
   "cell_type": "markdown",
   "metadata": {},
   "source": [
    "Each cloud provider has dedicated tools to move data between cloud regions. Let’s try transferring over the data using AWS’s built in cp command:\n",
    "\n",
    "💻 `aws s3 cp --recursive s3://skycamp-demo-bucket/gorilla/ s3://gorilla-weights-[name]`\n",
    "\n",
    "```\n",
    "copy: s3://skycamp-demo-bucket/gorilla/pytorch_model-00002-of-00002.bin to s3://gorilla-weights-new-bucket/pytorch_model-00002-of-00002.bin\n",
    "Completed 7.3 GiB/12.4 GiB (18.7 MiB/s) with 1 file(s) \n",
    "Completed 7.4 GiB/12.4 GiB (18.7 MiB/s) with 1 file(s) \n",
    "Completed 7.4 GiB/12.4 GiB (18.8 MiB/s) with 1 file(s) \n",
    "Completed 7.4 GiB/12.4 GiB (18.8 MiB/s) with 1 file(s) \n",
    "Completed 7.4 GiB/12.4 GiB (18.7 MiB/s) with 1 file(s) \n",
    "Completed 7.4 GiB/12.4 GiB (18.7 MiB/s) with 1 file(s) \n",
    "Completed 7.4 GiB/12.4 GiB (18.8 MiB/s) with 1 file(s) \n",
    "Completed 7.4 GiB/12.4 GiB (18.8 MiB/s) with 1 file(s) \n",
    "Completed 7.4 GiB/12.4 GiB (18.7 MiB/s) with 1 file(s) \n",
    "```\n",
    "\n",
    "### This will take a long time to complete. Feel free to interrupt the command. Notice that it copies data at under 25 MiB/s."
   ]
  },
  {
   "cell_type": "markdown",
   "metadata": {},
   "source": [
    "# Exercise 2: Let's try the same transfer with skyplane "
   ]
  },
  {
   "cell_type": "markdown",
   "metadata": {},
   "source": [
    "### Configure Skyplane with AWS credentials. \n",
    "\n",
    "#### <span style=\"color:red\">Choose `Y` only for AWS, and `n` for GCP and Azure.</span>\n",
    "\n",
    "💻 `skyplane init`\n",
    "\n",
    "```\n",
    " _____ _   ____   _______ _       ___   _   _  _____ \n",
    "/  ___| | / /\\ \\ / / ___ \\ |     / _ \\ | \\ | ||  ___|\n",
    "\\ `--.| |/ /  \\ V /| |_/ / |    / /_\\ \\|  \\| || |__  \n",
    " `--. \\    \\   \\ / |  __/| |    |  _  || . ` ||  __| \n",
    "/\\__/ / |\\  \\  | | | |   | |____| | | || |\\  || |___ \n",
    "\\____/\\_| \\_/  \\_/ \\_|   \\_____/\\_| |_/\\_| \\_/\\____/\n",
    "\n",
    "03:37:54 [DEBUG] Found existing configuration file at /root/.skyplane/config, \n",
    "loading\n",
    "\n",
    "(1) Configuring AWS:\n",
    "    Do you want to configure AWS support in Skyplane? [Y/n]:\n",
    "    Loaded AWS credentials from the AWS CLI [IAM access key ID: ...ZEXYJW]\n",
    "    AWS region config file saved to /root/.skyplane/aws_config\n",
    "\n",
    "(2) Configuring Azure:\n",
    "    Do you want to configure Azure support in Skyplane? [Y/n]: n\n",
    "    Disabling Azure support\n",
    "\n",
    "(3) Configuring GCP:\n",
    "    Do you want to configure GCP support in Skyplane? [Y/n]: n\n",
    "    Disabling Google Cloud support\n",
    "\n",
    "Config file saved to /root/.skyplane/config\n",
    "To disable performance logging info: \n",
    "https://skyplane.org/en/latest/performance_stats_collection.html\n",
    "```\n",
    "\n",
    "\n",
    "> **💡 Hint** - If you run into any issues, please contact one of the Skyplane team members immediately. This step is critical to follow through the tutorial."
   ]
  },
  {
   "cell_type": "markdown",
   "metadata": {},
   "source": [
    "### Transferring with Skyplane "
   ]
  },
  {
   "cell_type": "markdown",
   "metadata": {},
   "source": [
    "💻 `skyplane cp --recursive s3://skycamp-demo-bucket/gorilla/ s3://gorilla-weights-[name]`\n",
    "\n",
    "```\n",
    " _____ _   ____   _______ _       ___   _   _  _____ \n",
    "/  ___| | / /\\ \\ / / ___ \\ |     / _ \\ | \\ | ||  ___|\n",
    "\\ `--.| |/ /  \\ V /| |_/ / |    / /_\\ \\|  \\| || |__  \n",
    " `--. \\    \\   \\ / |  __/| |    |  _  || . ` ||  __| \n",
    "/\\__/ / |\\  \\  | | | |   | |____| | | || |\\  || |___ \n",
    "\\____/\\_| \\_/  \\_/ \\_|   \\_____/\\_| |_/\\_| \\_/\\____/\n",
    "\n",
    "13:34:22 [WARN]  Bucket location skycamp-demo-bucket is not public. Assuming region is \n",
    "us-east-1\n",
    "Logging to: /tmp/skyplane/transfer_logs/20231020_133422-b07cc30f/client.log\n",
    "Using Skyplane version 0.3.2\n",
    "Will transfer objects from aws:us-east-1 to aws:ap-south-1\n",
    "  VMs to provision: 1x aws:ap-south-1, 1x aws:us-east-1\n",
    "  Estimated egress cost: $0.02/GB\n",
    "  ⠦ Querying objects for transfer...13:34:25 \n",
    "  s3://skycamp-demo-bucket/gorilla/ => s3://gorilla-weights-new-bucket/ (0B)\n",
    "  s3://skycamp-demo-bucket/gorilla/pytorch_model-00001-of-00002.bin => \n",
    "s3://gorilla-weights-new-bucket/pytorch_model-00001-of-00002.bin (9.26GB)\n",
    "  s3://skycamp-demo-bucket/gorilla/pytorch_model-00002-of-00002.bin => \n",
    "s3://gorilla-weights-new-bucket/pytorch_model-00002-of-00002.bin (3.13GB)\n",
    "Continue? [Y/n]: Y\n",
    "Transfer starting (Tip: Enable auto-confirmation with `skyplane config set autoconfirm \n",
    "true`)\n",
    "✓ Provisioning VMs (2/2) in 44.38s\n",
    "✓ Starting gateway container on VMs (2/2) in 46.70s\n",
    "⠏ Dispatching chunks... ━━━━━━━━━━━━━━━━━━━━━━━━━━━━━━━━━━━━━━━━ 0/? bytes13:36:44 \n",
    "  Transfer progress aws:ap-south-1 ━━━━━━━━━━━━━━━━━━━━━━━━━━━━━━━━━━━━━━━━ 12.4/12.4 GiB 411.5 MB/s 0:00:00\n",
    "✓ Completing multipart uploads (2/2) in 4.86s\n",
    "\n",
    "✅ Transfer completed successfully\n",
    "Transfer runtime: 44.20s, Throughput: 2.24Gbps\n",
    "```"
   ]
  },
  {
   "cell_type": "markdown",
   "metadata": {},
   "source": [
    "# Exercise 3: Transferring to multiple destinations\n",
    "<p style=\"text-align:center;\">\n",
    "    <img src=\"./assets/multicast.jpg\" width=700>\n",
    "</p>"
   ]
  },
  {
   "cell_type": "markdown",
   "metadata": {},
   "source": [
    "In some cases, data needs to be replicated to multiple destinations. For example, say you have some freshly trained model weights: you'll want to have them accessible across multiple regions as quickly as possible. In this example, we'll show how you can run a multicast (i.e. multi-destination) transfer using Skyplane. "
   ]
  },
  {
   "cell_type": "markdown",
   "metadata": {},
   "source": [
    "## Create a secondary region bucket\n",
    "\n",
    "Lets create a second bucket in the additional destination region `aws:eu-north-1`. \n",
    "\n",
    "> **💡 Hint** - Reminder to replace [name] with a unique string. e.g., \"edcvr\"\n",
    "\n",
    "💻 `aws s3 mb s3://gorilla-[name] --region eu-north-1`\n",
    "```\n",
    "make_bucket: gorilla-[name]\n",
    "```"
   ]
  },
  {
   "cell_type": "markdown",
   "metadata": {},
   "source": [
    "## Running a multicast transfer using Skyplane API\n",
    "To run a multicast transfer, we can simply enter a list of destinations instead of a single destination. "
   ]
  },
  {
   "cell_type": "code",
   "execution_count": null,
   "metadata": {},
   "outputs": [],
   "source": [
    "import skyplane \n",
    "\n",
    "client = skyplane.SkyplaneClient()"
   ]
  },
  {
   "cell_type": "code",
   "execution_count": null,
   "metadata": {},
   "outputs": [],
   "source": [
    "src_bucket_path = \"s3://skycamp-demo-bucket/gorilla/\"\n",
    "bucket_path = \"s3://gorilla-weights-[name]\"\n",
    "another_bucket_path = \"s3://gorilla-[name]\""
   ]
  },
  {
   "cell_type": "code",
   "execution_count": null,
   "metadata": {},
   "outputs": [],
   "source": [
    "client.copy(src_bucket_path, [bucket_path, another_bucket_path], recursive=True, max_instances=1)"
   ]
  },
  {
   "cell_type": "markdown",
   "metadata": {},
   "source": [
    "# Exercise 4: Cleanup \n",
    "Finally, lets use the Skyplane API to delete the buckets we created. "
   ]
  },
  {
   "cell_type": "code",
   "execution_count": null,
   "metadata": {},
   "outputs": [],
   "source": [
    "client.object_store().delete_bucket(\"gorilla-weights-[name]\", provider=\"aws\")"
   ]
  },
  {
   "cell_type": "code",
   "execution_count": null,
   "metadata": {},
   "outputs": [],
   "source": [
    "client.object_store().delete_bucket(\"gorilla-[name]\", provider=\"aws\")"
   ]
  },
  {
   "cell_type": "markdown",
   "metadata": {},
   "source": [
    "Run to double check that instances are all deprovisioned: "
   ]
  },
  {
   "cell_type": "code",
   "execution_count": null,
   "metadata": {},
   "outputs": [],
   "source": [
    "!skyplane deprovision"
   ]
  },
  {
   "cell_type": "markdown",
   "metadata": {},
   "source": [
    "## 🎉 Congratulations! Your plane has now landed. Skyplane is an open sourced project. Feel free to use Skyplane for all your data mobility needs!\n"
   ]
  },
  {
   "cell_type": "markdown",
   "metadata": {},
   "source": [
    "#### Eager to learn more? \n",
    "\n",
    "#### Feel free to play-around with the [Skyplane optimizer](https://optimizer.skyplane.org/), read our NSDI 2023 [paper](https://arxiv.org/abs/2210.07259), or browse through our GitHub [repository](https://github.com/skyplane-project/skyplane)."
   ]
  },
  {
   "cell_type": "markdown",
   "metadata": {},
   "source": [
    "Acknowledgement: Thanks to [Skypilot](https://github.com/romilbhardwaj/skypilot-tutorial/) for the notebook template."
   ]
  }
 ],
 "metadata": {
  "kernelspec": {
   "display_name": "Python 3 (ipykernel)",
   "language": "python",
   "name": "python3"
  },
  "language_info": {
   "codemirror_mode": {
    "name": "ipython",
    "version": 3
   },
   "file_extension": ".py",
   "mimetype": "text/x-python",
   "name": "python",
   "nbconvert_exporter": "python",
   "pygments_lexer": "ipython3",
   "version": "3.10.12"
  }
 },
 "nbformat": 4,
 "nbformat_minor": 4
}
