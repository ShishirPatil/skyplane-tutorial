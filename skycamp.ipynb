{
 "cells": [
  {
   "cell_type": "markdown",
   "metadata": {},
   "source": [
    "<p style=\"text-align:center;\">\n",
    "    <img src=\"https://raw.githubusercontent.com/skyplane-project/skyplane/main/docs/_static/logo-light-mode.png\" width=500>\n",
    "</p>"
   ]
  },
  {
   "cell_type": "markdown",
   "metadata": {
    "pycharm": {
     "name": "#%% md\n"
    }
   },
   "source": [
    "# Welcome to Skyplane!\n",
    "\n",
    "## Skyplane enables fast data transfers between any cloud"
   ]
  },
  {
   "cell_type": "markdown",
   "metadata": {
    "pycharm": {
     "name": "#%% md\n"
    }
   },
   "source": [
    "Skyplane is a tool for blazingly fast bulk data transfers between object stores in the cloud. It provisions a fleet of VMs in the cloud to transfer data in parallel while using compression and bandwidth tiering to reduce cost.\n",
    "\n",
    "Skyplane is:\n",
    "1. 🔥 Blazing fast ([110x faster than AWS DataSync](https://skyplane.org/en/latest/benchmark.html))\n",
    "2. 🤑 Cheap (4x cheaper than rsync)\n",
    "3. 🌐 Universal (AWS, Azure, GCP, IBMCloud, and Cloudflare R2)\n",
    "\n",
    "You can use Skyplane to transfer data: \n",
    "* between object stores within a cloud provider (e.g. AWS us-east-1 to AWS us-west-2)\n",
    "* between object stores across multiple cloud providers (e.g. AWS us-east-1 to GCP us-central1)\n",
    "* between local storage and cloud object stores (experimental)"
   ]
  },
  {
   "cell_type": "markdown",
   "metadata": {},
   "source": [
    "# Exercises\n",
    "\n",
    "This notebook consists of 4 exercises:\n",
    "\n",
    "1. Exercise 1: Setting up authentication and cloud buckets\n",
    "2. Exercise 2: Copying data with Skyplane \n",
    "3. Exercise 3: Copying data to multiple destinations (multicast) \n",
    "5. Exercise 4: Cleanup \n",
    "\n",
    "# Learning outcomes 🎯\n",
    "\n",
    "After completing this notebook, you would have:\n",
    "\n",
    "1. An understand the Skyplane API\n",
    "2. Transfered data for a ML model from AWS S3 object stores in US-EAST-1 (N. Virginia) to EU-WEST-1 (Ireland)\n",
    "3. Compare and contrast `aws s3 cp` with Skyplane\n",
    "4. Terminate the transfer and clean up state\n",
    "\n"
   ]
  },
  {
   "cell_type": "markdown",
   "metadata": {},
   "source": [
    "# How to use this Tutorial"
   ]
  },
  {
   "cell_type": "markdown",
   "metadata": {},
   "source": [
    "These notebooks serve as a guide to Skyplane. At any point if you happen to get stuck, feel free to ping us on `#skyplane` channel on the [Skycamp slack.](https://join.slack.com/t/skycamp2023/shared_invite/zt-25axzytwn-y5AR~Bx2nqm4Iec6jlq3JA)\n"
   ]
  },
  {
   "cell_type": "markdown",
   "metadata": {},
   "source": [
    "### Update to the latest Skyplane pip package"
   ]
  },
  {
   "cell_type": "code",
   "execution_count": null,
   "metadata": {},
   "outputs": [],
   "source": [
    "!pip uninstall -y skyplane"
   ]
  },
  {
   "cell_type": "code",
   "execution_count": null,
   "metadata": {},
   "outputs": [],
   "source": [
    "# Please run this cell\n",
    "!pip install -U \"git+https://github.com/skyplane-project/skyplane.git@skycamp-tutorial-2023#egg=skyplane[aws]\""
   ]
  },
  {
   "cell_type": "code",
   "execution_count": null,
   "metadata": {},
   "outputs": [],
   "source": [
    "!pip install ipywidgets"
   ]
  },
  {
   "cell_type": "markdown",
   "metadata": {},
   "source": [
    "# Transferring Data with Skyplane\n",
    "\n",
    "<p style=\"text-align:center;\">\n",
    "    <img src=\"./assets/unicast.jpg\" width=700>\n",
    "</p>"
   ]
  },
  {
   "cell_type": "markdown",
   "metadata": {},
   "source": [
    "The core of Skyplane is based around the `cp` command. Suppose you want to transfer a fine-tuned [Gorilla](https://github.com/ShishirPatil/gorilla) model from one region to another to be accessible to a cross-regional serving cluster. Skyplane can help you efficiently transfer this data so you model weights are accessible accross multiple regions.  Let’s prepare for a transfer by first initializing buckets in a few different cloud regions in AWS."
   ]
  },
  {
   "cell_type": "markdown",
   "metadata": {},
   "source": [
    "# Exercise 1: Setting up Authentication & Buckets "
   ]
  },
  {
   "cell_type": "markdown",
   "metadata": {},
   "source": [
    "## Authentication"
   ]
  },
  {
   "cell_type": "code",
   "execution_count": null,
   "metadata": {},
   "outputs": [],
   "source": [
    "AWS_ACCESS_KEY = \"\" #TODO \n",
    "AWS_SECRET_KEY = \"\" #TODO "
   ]
  },
  {
   "cell_type": "code",
   "execution_count": null,
   "metadata": {},
   "outputs": [],
   "source": [
    "import skyplane \n",
    "\n",
    "client = skyplane.SkyplaneClient(\n",
    "    aws_config=skyplane.AWSConfig(aws_access_key=AWS_ACCESS_KEY, aws_secret_key=AWS_SECRET_KEY)\n",
    ")"
   ]
  },
  {
   "cell_type": "markdown",
   "metadata": {},
   "source": [
    "# Creating Buckets"
   ]
  },
  {
   "cell_type": "markdown",
   "metadata": {},
   "source": [
    "### Setting up AWS in the Destination region\n",
    "\n",
    "First, let’s create a bucket in the destination region `aws:ap-south-1` to store the model weights. \n",
    "\n",
    "> **💡 Hint** - Reminder to replace [name] with a unique string. e.g., \"edcvr\""
   ]
  },
  {
   "cell_type": "code",
   "execution_count": null,
   "metadata": {},
   "outputs": [],
   "source": [
    "bucket_name = \"gorilla-weights-[name]\""
   ]
  },
  {
   "cell_type": "markdown",
   "metadata": {},
   "source": [
    "We can create the bucket through Skyplane's API interface. "
   ]
  },
  {
   "cell_type": "code",
   "execution_count": null,
   "metadata": {},
   "outputs": [],
   "source": [
    "bucket_path = client.object_store().create_bucket(region=\"aws:ap-south-1\", bucket_name=bucket_name)\n",
    "bucket_path"
   ]
  },
  {
   "cell_type": "markdown",
   "metadata": {},
   "source": [
    "# Exercise 2: Transferring data with Skyplane"
   ]
  },
  {
   "cell_type": "markdown",
   "metadata": {},
   "source": [
    "We've setup the following source bucket that contains model weights: "
   ]
  },
  {
   "cell_type": "code",
   "execution_count": null,
   "metadata": {},
   "outputs": [],
   "source": [
    "src_bucket_path = \"s3://skycamp-demo-bucket/gorilla/\""
   ]
  },
  {
   "cell_type": "markdown",
   "metadata": {},
   "source": [
    "We can copy this to the bucket we previously created with the Skyplane client:\n",
    "\n",
    "> **⚠️ Warning** - Be careful not to interrupt the running cell, since it may lead to leaked instances. "
   ]
  },
  {
   "cell_type": "code",
   "execution_count": null,
   "metadata": {},
   "outputs": [],
   "source": [
    "client.copy(src_bucket_path, bucket_path, recursive=True, max_instances=1)"
   ]
  },
  {
   "cell_type": "markdown",
   "metadata": {},
   "source": [
    "# Exercise 3: Transferring to multiple destinations\n",
    "<p style=\"text-align:center;\">\n",
    "    <img src=\"./assets/multicast.jpg\" width=700>\n",
    "</p>"
   ]
  },
  {
   "cell_type": "markdown",
   "metadata": {},
   "source": [
    "In some cases, data needs to be replicated to multiple destinations. For example, say you have some freshly trained model weights: you'll want to have them accessible across multiple regions as quickly as possible. In this example, we'll show how you can run a multicast (i.e. multi-destination) transfer using Skyplane. "
   ]
  },
  {
   "cell_type": "markdown",
   "metadata": {},
   "source": [
    "## Create a secondary region bucket\n",
    "\n",
    "Lets create a second bucket in the additional destination region `aws:eu-north-1`. \n",
    "\n",
    "> **💡 Hint** - Reminder to replace [name] with a unique string. e.g., \"edcvr\""
   ]
  },
  {
   "cell_type": "code",
   "execution_count": null,
   "metadata": {},
   "outputs": [],
   "source": [
    "another_bucket_name = \"gorilla-[name]\""
   ]
  },
  {
   "cell_type": "code",
   "execution_count": null,
   "metadata": {},
   "outputs": [],
   "source": [
    "another_bucket_path = client.object_store().create_bucket(region=\"aws:eu-central-1\", bucket_name=another_bucket_name)\n",
    "another_bucket_path"
   ]
  },
  {
   "cell_type": "markdown",
   "metadata": {},
   "source": [
    "## Running a multicast transfer \n",
    "To run a multicast transfer, we can simply enter a list of destinations instead of a single destination. "
   ]
  },
  {
   "cell_type": "code",
   "execution_count": null,
   "metadata": {},
   "outputs": [],
   "source": [
    "client.copy(src_bucket_path, [bucket_path, another_bucket_path], recursive=True, max_instances=1)"
   ]
  },
  {
   "cell_type": "markdown",
   "metadata": {},
   "source": [
    "# Exercise 4: Cleanup \n",
    "Finally, lets use the Skyplane API to delete the buckets we created. "
   ]
  },
  {
   "cell_type": "code",
   "execution_count": null,
   "metadata": {},
   "outputs": [],
   "source": [
    "client.object_store().delete_bucket(bucket_name, provider=\"aws\")"
   ]
  },
  {
   "cell_type": "code",
   "execution_count": null,
   "metadata": {},
   "outputs": [],
   "source": [
    "client.object_store().delete_bucket(another_bucket_name, provider=\"aws\")"
   ]
  },
  {
   "cell_type": "markdown",
   "metadata": {},
   "source": [
    "Run to double check that instances are all deprovisioned: "
   ]
  },
  {
   "cell_type": "code",
   "execution_count": null,
   "metadata": {},
   "outputs": [],
   "source": [
    "!skyplane deprovision"
   ]
  },
  {
   "cell_type": "markdown",
   "metadata": {},
   "source": [
    "## 🎉 Congratulations! Your plane has now landed. Skyplane is an open sourced project. Feel free to use Skyplane for all your data mobility needs!\n"
   ]
  },
  {
   "cell_type": "markdown",
   "metadata": {},
   "source": [
    "#### Eager to learn more? \n",
    "\n",
    "#### Feel free to play-around with the [Skyplane optimizer](https://optimizer.skyplane.org/), read our NSDI 2023 [paper](https://arxiv.org/abs/2210.07259), or browse through our GitHub [repository](https://github.com/skyplane-project/skyplane)."
   ]
  },
  {
   "cell_type": "markdown",
   "metadata": {},
   "source": [
    "Acknowledgement: Thanks to [Skypilot](https://github.com/romilbhardwaj/skypilot-tutorial/) for the notebook template."
   ]
  }
 ],
 "metadata": {
  "kernelspec": {
   "display_name": "Python 3 (ipykernel)",
   "language": "python",
   "name": "python3"
  },
  "language_info": {
   "codemirror_mode": {
    "name": "ipython",
    "version": 3
   },
   "file_extension": ".py",
   "mimetype": "text/x-python",
   "name": "python",
   "nbconvert_exporter": "python",
   "pygments_lexer": "ipython3",
   "version": "3.10.12"
  }
 },
 "nbformat": 4,
 "nbformat_minor": 4
}
