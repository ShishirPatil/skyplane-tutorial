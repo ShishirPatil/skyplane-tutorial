{
 "cells": [
  {
   "cell_type": "markdown",
   "metadata": {},
   "source": [
    "<p style=\"text-align:center;\">\n",
    "    <img src=\"https://raw.githubusercontent.com/skyplane-project/skyplane/main/docs/_static/logo-light-mode.png\" width=500>\n",
    "</p>"
   ]
  },
  {
   "cell_type": "markdown",
   "metadata": {
    "pycharm": {
     "name": "#%% md\n"
    }
   },
   "source": [
    "# Welcome to Skyplane!\n",
    "\n",
    "## Skyplane enables fast data transfers between any cloud"
   ]
  },
  {
   "cell_type": "markdown",
   "metadata": {
    "pycharm": {
     "name": "#%% md\n"
    }
   },
   "source": [
    "Skyplane is a tool for blazingly fast bulk data transfers between object stores in the cloud. It provisions a fleet of VMs in the cloud to transfer data in parallel while using compression and bandwidth tiering to reduce cost.\n",
    "\n",
    "Skyplane is:\n",
    "1. 🔥 Blazing fast ([110x faster than AWS DataSync](https://skyplane.org/en/latest/benchmark.html))\n",
    "2. 🤑 Cheap (4x cheaper than rsync)\n",
    "3. 🌐 Universal (AWS, Azure, GCP, IBMCloud, and Cloudflare R2)\n",
    "\n",
    "You can use Skyplane to transfer data: \n",
    "* between object stores within a cloud provider (e.g. AWS us-east-1 to AWS us-west-2)\n",
    "* between object stores across multiple cloud providers (e.g. AWS us-east-1 to GCP us-central1)\n",
    "* between local storage and cloud object stores (experimental)"
   ]
  },
  {
   "cell_type": "markdown",
   "metadata": {},
   "source": [
    "# Exercises\n",
    "\n",
    "This notebook consists of 4 exercises:\n",
    "\n",
    "1. Exercise 1: Copying data between AWS regions\n",
    "2. Exercise 2: Copying data with Skyplane \n",
    "3. Exercise 3: Copying data to multiple destinations (multicast) \n",
    "4. Exercise 4: Copying data between two VMs \n",
    "5. Exercise 5: Cleanup \n",
    "\n",
    "# Learning outcomes 🎯\n",
    "\n",
    "After completing this notebook, you would have:\n",
    "\n",
    "1. An understand the Skyplane API\n",
    "2. Transfered data for a ML model from AWS S3 object stores in US-EAST-1 (N. Virginia) to EU-WEST-1 (Ireland)\n",
    "3. Compare and contrast `aws s3 cp` with `skyplane cp`\n",
    "4. Terminate the transfer and clean up state\n",
    "\n"
   ]
  },
  {
   "cell_type": "markdown",
   "metadata": {},
   "source": [
    "# How to use this Tutorial"
   ]
  },
  {
   "cell_type": "markdown",
   "metadata": {},
   "source": [
    "These notebooks serve as a guide to Skyplane. At any point if you happen to get stuck, feel free to ping us on `#skyplane` channel on the [Skycamp slack.](https://join.slack.com/t/skycamp2022/shared_invite/zt-1gsrgky1z-iSFVEEOMSUD7Dd7B5syCsA)\n",
    "\n",
    "We will describe what we are doing in this notebook. The commands and the example response are included. We highly recommend you open an terminal and run commands yourself. \n",
    "\n",
    "### 💻 - Run commands in an interactive terminal window\n",
    "\n",
    "You can use this icon as a hint to know when to switch away from the current notebook and edit a file or open a terminal. We also have example outputs that you can use to ensure consistency. \n"
   ]
  },
  {
   "cell_type": "markdown",
   "metadata": {},
   "source": [
    "# How to open a Terminal\n",
    "\n",
    "If you're using jupyter lab, you can create a terminal in your browser by going to `File -> New -> Terminal`"
   ]
  },
  {
   "cell_type": "markdown",
   "metadata": {},
   "source": [
    "# Preflight  - Initializing cloud credentials"
   ]
  },
  {
   "cell_type": "markdown",
   "metadata": {},
   "source": [
    "Before we start this tutorial, we have few pre-flight checks:\n",
    "\n",
    "### Let's ensure we have the latest notebook"
   ]
  },
  {
   "cell_type": "code",
   "execution_count": null,
   "metadata": {},
   "outputs": [],
   "source": [
    "# Please run this cell\n",
    "!git pull --quiet"
   ]
  },
  {
   "cell_type": "markdown",
   "metadata": {},
   "source": [
    "### Update to the latest Skyplane pip package"
   ]
  },
  {
   "cell_type": "code",
   "execution_count": null,
   "metadata": {},
   "outputs": [],
   "source": [
    "!pip uninstall -y skyplane"
   ]
  },
  {
   "cell_type": "code",
   "execution_count": null,
   "metadata": {},
   "outputs": [],
   "source": [
    "# Please run this cell\n",
    "!pip install -U \"git+https://github.com/skyplane-project/skyplane.git@skycamp-tutorial-2023#egg=skyplane[aws]\""
   ]
  },
  {
   "cell_type": "code",
   "execution_count": null,
   "metadata": {},
   "outputs": [],
   "source": [
    "!pip install ipywidgets"
   ]
  },
  {
   "cell_type": "markdown",
   "metadata": {},
   "source": [
    "### Configure Skyplane with AWS credentials. \n",
    "\n",
    "#### <span style=\"color:red\">Choose `Y` only for AWS, and `n` for GCP and Azure.</span>\n",
    "\n",
    "💻 `skyplane init`\n",
    "\n",
    "```\n",
    " _____ _   ____   _______ _       ___   _   _  _____ \n",
    "/  ___| | / /\\ \\ / / ___ \\ |     / _ \\ | \\ | ||  ___|\n",
    "\\ `--.| |/ /  \\ V /| |_/ / |    / /_\\ \\|  \\| || |__  \n",
    " `--. \\    \\   \\ / |  __/| |    |  _  || . ` ||  __| \n",
    "/\\__/ / |\\  \\  | | | |   | |____| | | || |\\  || |___ \n",
    "\\____/\\_| \\_/  \\_/ \\_|   \\_____/\\_| |_/\\_| \\_/\\____/\n",
    "\n",
    "03:37:54 [DEBUG] Found existing configuration file at /root/.skyplane/config, \n",
    "loading\n",
    "\n",
    "(1) Configuring AWS:\n",
    "    Do you want to configure AWS support in Skyplane? [Y/n]:\n",
    "    Loaded AWS credentials from the AWS CLI [IAM access key ID: ...ZEXYJW]\n",
    "    AWS region config file saved to /root/.skyplane/aws_config\n",
    "\n",
    "(2) Configuring Azure:\n",
    "    Do you want to configure Azure support in Skyplane? [Y/n]: n\n",
    "    Disabling Azure support\n",
    "\n",
    "(3) Configuring GCP:\n",
    "    Do you want to configure GCP support in Skyplane? [Y/n]: n\n",
    "    Disabling Google Cloud support\n",
    "\n",
    "Config file saved to /root/.skyplane/config\n",
    "To disable performance logging info: \n",
    "https://skyplane.org/en/latest/performance_stats_collection.html\n",
    "```\n",
    "\n",
    "\n",
    "> **💡 Hint** - If you run into any issues, please contact one of the Skyplane team members immediately. This step is critical to follow through the tutorial."
   ]
  },
  {
   "cell_type": "markdown",
   "metadata": {},
   "source": [
    "# Transferring Data with Skyplane\n",
    "\n",
    "<p style=\"text-align:center;\">\n",
    "    <img src=\"./assets/unicast.jpg\" width=700>\n",
    "</p>"
   ]
  },
  {
   "cell_type": "markdown",
   "metadata": {},
   "source": [
    "The core of Skyplane is based around the `cp` command. Suppose you want to transfer a fine-tuned [Gorilla](https://github.com/ShishirPatil/gorilla) model from one region to another to be accessible to a cross-regional serving cluster. Skyplane can help you efficiently transfer this data so you model weights are accessible accross multiple regions.  Let’s prepare for a transfer by first initializing buckets in a few different cloud regions in AWS."
   ]
  },
  {
   "cell_type": "markdown",
   "metadata": {},
   "source": [
    "# Creating Buckets"
   ]
  },
  {
   "cell_type": "markdown",
   "metadata": {},
   "source": [
    "### Setting up AWS in the Destination region\n",
    "\n",
    "First, let’s create a bucket in the destination region `aws:ap-south-1` to store the model weights. \n",
    "\n",
    "> **💡 Hint** - Reminder to replace [name] with a unique string. e.g., \"edcvr\""
   ]
  },
  {
   "cell_type": "code",
   "execution_count": null,
   "metadata": {},
   "outputs": [],
   "source": [
    "bucket_name = \"gorilla-weights-[name]\""
   ]
  },
  {
   "cell_type": "markdown",
   "metadata": {},
   "source": [
    "We can create the bucket through Skyplane's API interface. "
   ]
  },
  {
   "cell_type": "code",
   "execution_count": null,
   "metadata": {},
   "outputs": [],
   "source": [
    "import skyplane\n",
    "client = skyplane.SkyplaneClient()\n",
    "\n",
    "bucket_path = client.object_store().create_bucket(region=\"aws:ap-south-1\", bucket_name=bucket_name)\n",
    "bucket_path"
   ]
  },
  {
   "cell_type": "markdown",
   "metadata": {},
   "source": [
    "# Exercise 1: Copying data between AWS regions"
   ]
  },
  {
   "cell_type": "markdown",
   "metadata": {},
   "source": [
    "Transferring data between AWS regions with `aws s3 cp`"
   ]
  },
  {
   "cell_type": "markdown",
   "metadata": {},
   "source": [
    "Each cloud provider has dedicated tools to move data between cloud regions. Let’s try transferring over the data using AWS’s built in cp command:\n",
    "\n",
    "💻 `aws s3 cp --recursive s3://skycamp-demo-bucket/gorilla s3://{bucket_name}`\n",
    "\n",
    "```\n",
    "Completed 536.0 MiB/12.4 GiB (17.8 MiB/s) with 2 file(s) remaining\n",
    "```\n",
    "\n",
    "### This will take a long time to complete. Feel free to interrupt the command. Notice that it copies data at under 25 MiB/s.\n"
   ]
  },
  {
   "cell_type": "markdown",
   "metadata": {},
   "source": [
    "# Exercise 2: Let's try the same transfer with Skyplane"
   ]
  },
  {
   "cell_type": "code",
   "execution_count": null,
   "metadata": {},
   "outputs": [],
   "source": [
    "src_bucket_path = \"s3://skycamp-demo-bucket/gorilla/\""
   ]
  },
  {
   "cell_type": "code",
   "execution_count": null,
   "metadata": {},
   "outputs": [],
   "source": [
    "client.copy(src_bucket_path, bucket_path, recursive=True, max_instances=4)"
   ]
  },
  {
   "cell_type": "markdown",
   "metadata": {},
   "source": [
    "##  💡  Observe skyplane significantly reduces the time to move data"
   ]
  },
  {
   "cell_type": "markdown",
   "metadata": {},
   "source": [
    "# Exercise 3: Transferring to multiple destinations\n",
    "<p style=\"text-align:center;\">\n",
    "    <img src=\"./assets/multicast.jpg\" width=700>\n",
    "</p>"
   ]
  },
  {
   "cell_type": "markdown",
   "metadata": {},
   "source": [
    "In some cases, data needs to be replicated to multiple destinations. For example, say you have some freshly trained model weights: you'll want to have them accessible across multiple regions as quickly as possible. In this example, we'll show how you can run a multicast (i.e. multi-destination) transfer using Skyplane. "
   ]
  },
  {
   "cell_type": "markdown",
   "metadata": {},
   "source": [
    "## Create a secondary region bucket\n",
    "\n",
    "Lets create a second bucket in the additional destination region `aws:eu-north-1`. \n",
    "\n",
    "> **💡 Hint** - Reminder to replace [name] with a unique string. e.g., \"edcvr\""
   ]
  },
  {
   "cell_type": "code",
   "execution_count": null,
   "metadata": {},
   "outputs": [],
   "source": [
    "another_bucket_name = \"gorilla-[name]\""
   ]
  },
  {
   "cell_type": "code",
   "execution_count": null,
   "metadata": {},
   "outputs": [],
   "source": [
    "another_bucket_path = client.object_store().create_bucket(region=\"aws:eu-north-1\", bucket_name=another_bucket_name)\n",
    "another_bucket_path"
   ]
  },
  {
   "cell_type": "markdown",
   "metadata": {},
   "source": [
    "## Running a multicast transfer \n",
    "To run a multicast transfer, we can simply enter a list of destinations instead of a single destination. "
   ]
  },
  {
   "cell_type": "code",
   "execution_count": null,
   "metadata": {},
   "outputs": [],
   "source": [
    "client.copy(src_bucket_path, [bucket_path, another_bucket_path], recursive=True, max_instances=4)"
   ]
  },
  {
   "cell_type": "markdown",
   "metadata": {},
   "source": [
    "# Exercise 4: Cleanup \n",
    "Finally, lets use the Skyplane API to delete the buckets we created. "
   ]
  },
  {
   "cell_type": "code",
   "execution_count": null,
   "metadata": {},
   "outputs": [],
   "source": [
    "client.object_store().delete_bucket(bucket_name, provider=\"aws\")"
   ]
  },
  {
   "cell_type": "code",
   "execution_count": null,
   "metadata": {},
   "outputs": [],
   "source": [
    "client.object_store().delete_bucket(another_bucket_name, provider=\"aws\")"
   ]
  },
  {
   "cell_type": "markdown",
   "metadata": {},
   "source": [
    "## 💻 Terminate your cluster!"
   ]
  },
  {
   "cell_type": "markdown",
   "metadata": {},
   "source": [
    "Finally, just to make sure that we don't have any instances running that might be burning up money, let's quickly deprovision everything.\n",
    "\n",
    "💻 `skyplane deprovision`\n",
    "\n",
    "```\n",
    "No instances to deprovision\n",
    "✓ Removing IPs from VPCs (4/4) in 2.05s\n",
    "\n",
    "```"
   ]
  },
  {
   "cell_type": "markdown",
   "metadata": {},
   "source": [
    "## 🎉 Congratulations! Your plane has now landed. Skyplane is an open sourced project. Feel free to use Skyplane for all your data mobility needs!\n"
   ]
  },
  {
   "cell_type": "markdown",
   "metadata": {},
   "source": [
    "#### Eager to learn more? \n",
    "\n",
    "#### Feel free to play-around with the [Skyplane optimizer](https://optimizer.skyplane.org/), read our NSDI 2023 [paper](https://arxiv.org/abs/2210.07259), or browse through our GitHub [repository](https://github.com/skyplane-project/skyplane)."
   ]
  },
  {
   "cell_type": "markdown",
   "metadata": {},
   "source": [
    "Acknowledgement: Thanks to [Skypilot](https://github.com/romilbhardwaj/skypilot-tutorial/) for the notebook template."
   ]
  }
 ],
 "metadata": {
  "kernelspec": {
   "display_name": "Python 3 (ipykernel)",
   "language": "python",
   "name": "python3"
  },
  "language_info": {
   "codemirror_mode": {
    "name": "ipython",
    "version": 3
   },
   "file_extension": ".py",
   "mimetype": "text/x-python",
   "name": "python",
   "nbconvert_exporter": "python",
   "pygments_lexer": "ipython3",
   "version": "3.10.12"
  }
 },
 "nbformat": 4,
 "nbformat_minor": 4
}
