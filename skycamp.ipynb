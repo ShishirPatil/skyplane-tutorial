{
 "cells": [
  {
   "cell_type": "markdown",
   "metadata": {},
   "source": [
    "<p style=\"text-align:center;\">\n",
    "    <img src=\"https://raw.githubusercontent.com/skyplane-project/skyplane/main/docs/_static/logo-light-mode.png\" width=500>\n",
    "</p>"
   ]
  },
  {
   "cell_type": "markdown",
   "metadata": {
    "pycharm": {
     "name": "#%% md\n"
    }
   },
   "source": [
    "# Welcome to Skyplane!\n",
    "\n",
    "## Skyplane enables fast data transfers between any cloud"
   ]
  },
  {
   "cell_type": "markdown",
   "metadata": {
    "pycharm": {
     "name": "#%% md\n"
    }
   },
   "source": [
    "Skyplane is a tool for blazingly fast bulk data transfers between object stores in the cloud. It provisions a fleet of VMs in the cloud to transfer data in parallel while using compression and bandwidth tiering to reduce cost.\n",
    "\n",
    "Skyplane is:\n",
    "1. 🔥 Blazing fast ([110x faster than AWS DataSync](https://skyplane.org/en/latest/benchmark.html))\n",
    "2. 🤑 Cheap (4x cheaper than rsync)\n",
    "3. 🌐 Universal (AWS, Azure and GCP)\n",
    "\n",
    "You can use Skyplane to transfer data: \n",
    "* between object stores within a cloud provider (e.g. AWS us-east-1 to AWS us-west-2)\n",
    "* between object stores across multiple cloud providers (e.g. AWS us-east-1 to GCP us-central1)\n",
    "* between local storage and cloud object stores (experimental)"
   ]
  },
  {
   "cell_type": "markdown",
   "metadata": {},
   "source": [
    "# Exercises\n",
    "\n",
    "This notebook consists of 4 exercises:\n",
    "\n",
    "1. Exercise 1: Copying data between AWS regions\n",
    "2. Exercise 2: Copying data with Skyplane \n",
    "3. Exercise 3: Copying data to multiple destinations (multicast) \n",
    "4. Exercise 4: Copying data between two VMs \n",
    "5. Exercise 5: Cleanup \n",
    "\n",
    "# Learning outcomes 🎯\n",
    "\n",
    "After completing this notebook, you would have:\n",
    "\n",
    "1. An understand the Skyplane API\n",
    "2. Transfered data for a ML model from AWS S3 object stores in US-EAST-1 (N. Virginia) to EU-WEST-1 (Ireland)\n",
    "3. Compare and contrast `aws s3 cp` with `skyplane cp`\n",
    "4. Terminate the transfer and clean up state\n",
    "\n"
   ]
  },
  {
   "cell_type": "markdown",
   "metadata": {},
   "source": [
    "# How to use this Tutorial"
   ]
  },
  {
   "cell_type": "markdown",
   "metadata": {},
   "source": [
    "These notebooks serve as a guide to Skyplane. At any point if you happen to get stuck, feel free to ping us on `#skyplane` channel on the [Skycamp slack.](https://join.slack.com/t/skycamp2022/shared_invite/zt-1gsrgky1z-iSFVEEOMSUD7Dd7B5syCsA)\n",
    "\n",
    "We will describe what we are doing in this notebook. The commands and the example response are included. We highly recommend you open an terminal and run commands yourself. \n",
    "\n",
    "### 💻 - Run commands in an interactive terminal window\n",
    "\n",
    "You can use this icon as a hint to know when to switch away from the current notebook and edit a file or open a terminal. We also have example outputs that you can use to ensure consistency. \n"
   ]
  },
  {
   "cell_type": "markdown",
   "metadata": {},
   "source": [
    "# How to open a Terminal\n",
    "\n",
    "If you're using jupyter lab, you can create a terminal in your browser by going to `File -> New -> Terminal`"
   ]
  },
  {
   "cell_type": "markdown",
   "metadata": {},
   "source": [
    "# Preflight  - Initializing cloud credentials"
   ]
  },
  {
   "cell_type": "markdown",
   "metadata": {},
   "source": [
    "Before we start this tutorial, we have few pre-flight checks:\n",
    "\n",
    "### Let's ensure we have the latest notebook"
   ]
  },
  {
   "cell_type": "code",
   "execution_count": 18,
   "metadata": {},
   "outputs": [
    {
     "name": "stdout",
     "output_type": "stream",
     "text": [
      "There is no tracking information for the current branch.\r\n",
      "Please specify which branch you want to merge with.\r\n",
      "See git-pull(1) for details.\r\n",
      "\r\n",
      "    git pull <remote> <branch>\r\n",
      "\r\n",
      "If you wish to set tracking information for this branch you can do so with:\r\n",
      "\r\n",
      "    git branch --set-upstream-to=origin/<branch> skyplane-2023\r\n",
      "\r\n"
     ]
    }
   ],
   "source": [
    "# Please run this cell\n",
    "!git pull --quiet"
   ]
  },
  {
   "cell_type": "markdown",
   "metadata": {},
   "source": [
    "### Update to the latest Skyplane pip package"
   ]
  },
  {
   "cell_type": "code",
   "execution_count": 22,
   "metadata": {},
   "outputs": [
    {
     "name": "stdout",
     "output_type": "stream",
     "text": [
      "Found existing installation: skyplane 0.3.2\r\n",
      "Uninstalling skyplane-0.3.2:\r\n",
      "  Successfully uninstalled skyplane-0.3.2\r\n"
     ]
    }
   ],
   "source": [
    "!pip uninstall -y skyplane"
   ]
  },
  {
   "cell_type": "code",
   "execution_count": 23,
   "metadata": {},
   "outputs": [
    {
     "name": "stdout",
     "output_type": "stream",
     "text": [
      "\u001b[33mDEPRECATION: git+https://github.com/skyplane-project/skyplane.git@skycamp-tutorial-2023#egg=skyplane[aws] contains an egg fragment with a non-PEP 508 name pip 25.0 will enforce this behaviour change. A possible replacement is to use the req @ url syntax, and remove the egg fragment. Discussion can be found at https://github.com/pypa/pip/issues/11617\u001b[0m\u001b[33m\n",
      "\u001b[0mCollecting skyplane[aws]\n",
      "  Cloning https://github.com/skyplane-project/skyplane.git (to revision skycamp-tutorial-2023) to /private/var/folders/ps/n8nqzz915pqcc38mq5h1p7zr0000gn/T/pip-install-gvjgylgm/skyplane_d935c4c9a3d347c382baca3686b93c3b\n",
      "  Running command git clone --filter=blob:none --quiet https://github.com/skyplane-project/skyplane.git /private/var/folders/ps/n8nqzz915pqcc38mq5h1p7zr0000gn/T/pip-install-gvjgylgm/skyplane_d935c4c9a3d347c382baca3686b93c3b\n",
      "  Running command git checkout -b skycamp-tutorial-2023 --track origin/skycamp-tutorial-2023\n",
      "  Switched to a new branch 'skycamp-tutorial-2023'\n",
      "  branch 'skycamp-tutorial-2023' set up to track 'origin/skycamp-tutorial-2023'.\n",
      "  Resolved https://github.com/skyplane-project/skyplane.git to commit e362206bb2e8532e12d2bd649f3520db365e0e78\n",
      "  Installing build dependencies ... \u001b[?25ldone\n",
      "\u001b[?25h  Getting requirements to build wheel ... \u001b[?25ldone\n",
      "\u001b[?25h  Preparing metadata (pyproject.toml) ... \u001b[?25ldone\n",
      "\u001b[?25hRequirement already satisfied: cachetools>=4.1.0 in ./env/lib/python3.10/site-packages (from skyplane[aws]) (5.3.1)\n",
      "Requirement already satisfied: cryptography>=1.4.0 in ./env/lib/python3.10/site-packages (from skyplane[aws]) (41.0.4)\n",
      "Requirement already satisfied: google-cloud-dataproc<6.0.0,>=5.4.0 in ./env/lib/python3.10/site-packages (from skyplane[aws]) (5.6.0)\n",
      "Requirement already satisfied: ibm-cos-sdk-core>=2.12.2 in ./env/lib/python3.10/site-packages (from skyplane[aws]) (2.13.2)\n",
      "Requirement already satisfied: ibm-cos-sdk-s3transfer>=2.12.2 in ./env/lib/python3.10/site-packages (from skyplane[aws]) (2.13.2)\n",
      "Requirement already satisfied: pandas>=1.0.0 in ./env/lib/python3.10/site-packages (from skyplane[aws]) (2.1.1)\n",
      "Requirement already satisfied: paramiko>=2.7.2 in ./env/lib/python3.10/site-packages (from skyplane[aws]) (3.3.1)\n",
      "Requirement already satisfied: pyarrow<11.0.0,>=10.0.1 in ./env/lib/python3.10/site-packages (from skyplane[aws]) (10.0.1)\n",
      "Requirement already satisfied: questionary>=1.8.0 in ./env/lib/python3.10/site-packages (from skyplane[aws]) (2.0.1)\n",
      "Requirement already satisfied: requests>=2.23.0 in ./env/lib/python3.10/site-packages (from skyplane[aws]) (2.31.0)\n",
      "Requirement already satisfied: rich>=9.0.0 in ./env/lib/python3.10/site-packages (from skyplane[aws]) (13.6.0)\n",
      "Requirement already satisfied: sshtunnel>=0.3.0 in ./env/lib/python3.10/site-packages (from skyplane[aws]) (0.4.0)\n",
      "Requirement already satisfied: typer>=0.4.0 in ./env/lib/python3.10/site-packages (from skyplane[aws]) (0.9.0)\n",
      "Requirement already satisfied: boto3>=1.16.0 in ./env/lib/python3.10/site-packages (from skyplane[aws]) (1.28.63)\n",
      "Requirement already satisfied: botocore<1.32.0,>=1.31.63 in ./env/lib/python3.10/site-packages (from boto3>=1.16.0->skyplane[aws]) (1.31.63)\n",
      "Requirement already satisfied: jmespath<2.0.0,>=0.7.1 in ./env/lib/python3.10/site-packages (from boto3>=1.16.0->skyplane[aws]) (1.0.1)\n",
      "Requirement already satisfied: s3transfer<0.8.0,>=0.7.0 in ./env/lib/python3.10/site-packages (from boto3>=1.16.0->skyplane[aws]) (0.7.0)\n",
      "Requirement already satisfied: cffi>=1.12 in ./env/lib/python3.10/site-packages (from cryptography>=1.4.0->skyplane[aws]) (1.16.0)\n",
      "Requirement already satisfied: google-api-core[grpc]!=2.0.*,!=2.1.*,!=2.10.*,!=2.2.*,!=2.3.*,!=2.4.*,!=2.5.*,!=2.6.*,!=2.7.*,!=2.8.*,!=2.9.*,<3.0.0dev,>=1.34.0 in ./env/lib/python3.10/site-packages (from google-cloud-dataproc<6.0.0,>=5.4.0->skyplane[aws]) (2.12.0)\n",
      "Requirement already satisfied: proto-plus<2.0.0dev,>=1.22.0 in ./env/lib/python3.10/site-packages (from google-cloud-dataproc<6.0.0,>=5.4.0->skyplane[aws]) (1.22.3)\n",
      "Requirement already satisfied: protobuf!=3.20.0,!=3.20.1,!=4.21.0,!=4.21.1,!=4.21.2,!=4.21.3,!=4.21.4,!=4.21.5,<5.0.0dev,>=3.19.5 in ./env/lib/python3.10/site-packages (from google-cloud-dataproc<6.0.0,>=5.4.0->skyplane[aws]) (4.24.4)\n",
      "Requirement already satisfied: grpc-google-iam-v1<1.0.0dev,>=0.12.4 in ./env/lib/python3.10/site-packages (from google-cloud-dataproc<6.0.0,>=5.4.0->skyplane[aws]) (0.12.6)\n",
      "Requirement already satisfied: python-dateutil<3.0.0,>=2.8.2 in ./env/lib/python3.10/site-packages (from ibm-cos-sdk-core>=2.12.2->skyplane[aws]) (2.8.2)\n",
      "Requirement already satisfied: urllib3<1.27,>=1.26.16 in ./env/lib/python3.10/site-packages (from ibm-cos-sdk-core>=2.12.2->skyplane[aws]) (1.26.17)\n",
      "Requirement already satisfied: numpy>=1.22.4 in ./env/lib/python3.10/site-packages (from pandas>=1.0.0->skyplane[aws]) (1.26.1)\n",
      "Requirement already satisfied: pytz>=2020.1 in ./env/lib/python3.10/site-packages (from pandas>=1.0.0->skyplane[aws]) (2023.3.post1)\n",
      "Requirement already satisfied: tzdata>=2022.1 in ./env/lib/python3.10/site-packages (from pandas>=1.0.0->skyplane[aws]) (2023.3)\n",
      "Requirement already satisfied: bcrypt>=3.2 in ./env/lib/python3.10/site-packages (from paramiko>=2.7.2->skyplane[aws]) (4.0.1)\n",
      "Requirement already satisfied: pynacl>=1.5 in ./env/lib/python3.10/site-packages (from paramiko>=2.7.2->skyplane[aws]) (1.5.0)\n",
      "Requirement already satisfied: prompt_toolkit<=3.0.36,>=2.0 in ./env/lib/python3.10/site-packages (from questionary>=1.8.0->skyplane[aws]) (3.0.36)\n",
      "Requirement already satisfied: charset-normalizer<4,>=2 in ./env/lib/python3.10/site-packages (from requests>=2.23.0->skyplane[aws]) (3.3.0)\n",
      "Requirement already satisfied: idna<4,>=2.5 in ./env/lib/python3.10/site-packages (from requests>=2.23.0->skyplane[aws]) (3.4)\n",
      "Requirement already satisfied: certifi>=2017.4.17 in ./env/lib/python3.10/site-packages (from requests>=2.23.0->skyplane[aws]) (2023.7.22)\n",
      "Requirement already satisfied: markdown-it-py>=2.2.0 in ./env/lib/python3.10/site-packages (from rich>=9.0.0->skyplane[aws]) (3.0.0)\n",
      "Requirement already satisfied: pygments<3.0.0,>=2.13.0 in ./env/lib/python3.10/site-packages (from rich>=9.0.0->skyplane[aws]) (2.16.1)\n",
      "Requirement already satisfied: click<9.0.0,>=7.1.1 in ./env/lib/python3.10/site-packages (from typer>=0.4.0->skyplane[aws]) (8.1.7)\n",
      "Requirement already satisfied: typing-extensions>=3.7.4.3 in ./env/lib/python3.10/site-packages (from typer>=0.4.0->skyplane[aws]) (4.8.0)\n",
      "Requirement already satisfied: pycparser in ./env/lib/python3.10/site-packages (from cffi>=1.12->cryptography>=1.4.0->skyplane[aws]) (2.21)\n",
      "Requirement already satisfied: googleapis-common-protos<2.0.dev0,>=1.56.2 in ./env/lib/python3.10/site-packages (from google-api-core[grpc]!=2.0.*,!=2.1.*,!=2.10.*,!=2.2.*,!=2.3.*,!=2.4.*,!=2.5.*,!=2.6.*,!=2.7.*,!=2.8.*,!=2.9.*,<3.0.0dev,>=1.34.0->google-cloud-dataproc<6.0.0,>=5.4.0->skyplane[aws]) (1.61.0)\n",
      "Requirement already satisfied: google-auth<3.0.dev0,>=2.14.1 in ./env/lib/python3.10/site-packages (from google-api-core[grpc]!=2.0.*,!=2.1.*,!=2.10.*,!=2.2.*,!=2.3.*,!=2.4.*,!=2.5.*,!=2.6.*,!=2.7.*,!=2.8.*,!=2.9.*,<3.0.0dev,>=1.34.0->google-cloud-dataproc<6.0.0,>=5.4.0->skyplane[aws]) (2.23.3)\n",
      "Requirement already satisfied: grpcio<2.0dev,>=1.33.2 in ./env/lib/python3.10/site-packages (from google-api-core[grpc]!=2.0.*,!=2.1.*,!=2.10.*,!=2.2.*,!=2.3.*,!=2.4.*,!=2.5.*,!=2.6.*,!=2.7.*,!=2.8.*,!=2.9.*,<3.0.0dev,>=1.34.0->google-cloud-dataproc<6.0.0,>=5.4.0->skyplane[aws]) (1.59.0)\n",
      "Requirement already satisfied: grpcio-status<2.0.dev0,>=1.33.2 in ./env/lib/python3.10/site-packages (from google-api-core[grpc]!=2.0.*,!=2.1.*,!=2.10.*,!=2.2.*,!=2.3.*,!=2.4.*,!=2.5.*,!=2.6.*,!=2.7.*,!=2.8.*,!=2.9.*,<3.0.0dev,>=1.34.0->google-cloud-dataproc<6.0.0,>=5.4.0->skyplane[aws]) (1.59.0)\n",
      "Requirement already satisfied: mdurl~=0.1 in ./env/lib/python3.10/site-packages (from markdown-it-py>=2.2.0->rich>=9.0.0->skyplane[aws]) (0.1.2)\n",
      "Requirement already satisfied: wcwidth in ./env/lib/python3.10/site-packages (from prompt_toolkit<=3.0.36,>=2.0->questionary>=1.8.0->skyplane[aws]) (0.2.8)\n",
      "Requirement already satisfied: six>=1.5 in ./env/lib/python3.10/site-packages (from python-dateutil<3.0.0,>=2.8.2->ibm-cos-sdk-core>=2.12.2->skyplane[aws]) (1.16.0)\n"
     ]
    },
    {
     "name": "stdout",
     "output_type": "stream",
     "text": [
      "Requirement already satisfied: pyasn1-modules>=0.2.1 in ./env/lib/python3.10/site-packages (from google-auth<3.0.dev0,>=2.14.1->google-api-core[grpc]!=2.0.*,!=2.1.*,!=2.10.*,!=2.2.*,!=2.3.*,!=2.4.*,!=2.5.*,!=2.6.*,!=2.7.*,!=2.8.*,!=2.9.*,<3.0.0dev,>=1.34.0->google-cloud-dataproc<6.0.0,>=5.4.0->skyplane[aws]) (0.3.0)\n",
      "Requirement already satisfied: rsa<5,>=3.1.4 in ./env/lib/python3.10/site-packages (from google-auth<3.0.dev0,>=2.14.1->google-api-core[grpc]!=2.0.*,!=2.1.*,!=2.10.*,!=2.2.*,!=2.3.*,!=2.4.*,!=2.5.*,!=2.6.*,!=2.7.*,!=2.8.*,!=2.9.*,<3.0.0dev,>=1.34.0->google-cloud-dataproc<6.0.0,>=5.4.0->skyplane[aws]) (4.9)\n",
      "Requirement already satisfied: pyasn1<0.6.0,>=0.4.6 in ./env/lib/python3.10/site-packages (from pyasn1-modules>=0.2.1->google-auth<3.0.dev0,>=2.14.1->google-api-core[grpc]!=2.0.*,!=2.1.*,!=2.10.*,!=2.2.*,!=2.3.*,!=2.4.*,!=2.5.*,!=2.6.*,!=2.7.*,!=2.8.*,!=2.9.*,<3.0.0dev,>=1.34.0->google-cloud-dataproc<6.0.0,>=5.4.0->skyplane[aws]) (0.5.0)\n",
      "Building wheels for collected packages: skyplane\n",
      "  Building wheel for skyplane (pyproject.toml) ... \u001b[?25ldone\n",
      "\u001b[?25h  Created wheel for skyplane: filename=skyplane-0.3.2-py3-none-any.whl size=203720 sha256=7b1957b29b46f9423d66bb6751aec2d59b21ee9ccfa0f607a39c57a66865ef78\n",
      "  Stored in directory: /private/var/folders/ps/n8nqzz915pqcc38mq5h1p7zr0000gn/T/pip-ephem-wheel-cache-3ys4oyqr/wheels/95/a5/1a/847a59e7211b420fa0a2dbefa6a0e8421441f6072b626e3dc2\n",
      "Successfully built skyplane\n",
      "Installing collected packages: skyplane\n",
      "Successfully installed skyplane-0.3.2\n",
      "\n",
      "\u001b[1m[\u001b[0m\u001b[34;49mnotice\u001b[0m\u001b[1;39;49m]\u001b[0m\u001b[39;49m A new release of pip is available: \u001b[0m\u001b[31;49m23.2.1\u001b[0m\u001b[39;49m -> \u001b[0m\u001b[32;49m23.3\u001b[0m\n",
      "\u001b[1m[\u001b[0m\u001b[34;49mnotice\u001b[0m\u001b[1;39;49m]\u001b[0m\u001b[39;49m To update, run: \u001b[0m\u001b[32;49mpip install --upgrade pip\u001b[0m\n"
     ]
    }
   ],
   "source": [
    "# Please run this cell\n",
    "!pip install -U \"git+https://github.com/skyplane-project/skyplane.git@skycamp-tutorial-2023#egg=skyplane[aws]\""
   ]
  },
  {
   "cell_type": "code",
   "execution_count": 24,
   "metadata": {},
   "outputs": [
    {
     "name": "stdout",
     "output_type": "stream",
     "text": [
      "Requirement already satisfied: ipywidgets in ./env/lib/python3.10/site-packages (8.1.1)\n",
      "Requirement already satisfied: comm>=0.1.3 in ./env/lib/python3.10/site-packages (from ipywidgets) (0.1.4)\n",
      "Requirement already satisfied: ipython>=6.1.0 in ./env/lib/python3.10/site-packages (from ipywidgets) (8.16.1)\n",
      "Requirement already satisfied: traitlets>=4.3.1 in ./env/lib/python3.10/site-packages (from ipywidgets) (5.11.2)\n",
      "Requirement already satisfied: widgetsnbextension~=4.0.9 in ./env/lib/python3.10/site-packages (from ipywidgets) (4.0.9)\n",
      "Requirement already satisfied: jupyterlab-widgets~=3.0.9 in ./env/lib/python3.10/site-packages (from ipywidgets) (3.0.9)\n",
      "Requirement already satisfied: backcall in ./env/lib/python3.10/site-packages (from ipython>=6.1.0->ipywidgets) (0.2.0)\n",
      "Requirement already satisfied: decorator in ./env/lib/python3.10/site-packages (from ipython>=6.1.0->ipywidgets) (5.1.1)\n",
      "Requirement already satisfied: jedi>=0.16 in ./env/lib/python3.10/site-packages (from ipython>=6.1.0->ipywidgets) (0.19.1)\n",
      "Requirement already satisfied: matplotlib-inline in ./env/lib/python3.10/site-packages (from ipython>=6.1.0->ipywidgets) (0.1.6)\n",
      "Requirement already satisfied: pickleshare in ./env/lib/python3.10/site-packages (from ipython>=6.1.0->ipywidgets) (0.7.5)\n",
      "Requirement already satisfied: prompt-toolkit!=3.0.37,<3.1.0,>=3.0.30 in ./env/lib/python3.10/site-packages (from ipython>=6.1.0->ipywidgets) (3.0.36)\n",
      "Requirement already satisfied: pygments>=2.4.0 in ./env/lib/python3.10/site-packages (from ipython>=6.1.0->ipywidgets) (2.16.1)\n",
      "Requirement already satisfied: stack-data in ./env/lib/python3.10/site-packages (from ipython>=6.1.0->ipywidgets) (0.6.3)\n",
      "Requirement already satisfied: exceptiongroup in ./env/lib/python3.10/site-packages (from ipython>=6.1.0->ipywidgets) (1.1.3)\n",
      "Requirement already satisfied: pexpect>4.3 in ./env/lib/python3.10/site-packages (from ipython>=6.1.0->ipywidgets) (4.8.0)\n",
      "Requirement already satisfied: appnope in ./env/lib/python3.10/site-packages (from ipython>=6.1.0->ipywidgets) (0.1.3)\n",
      "Requirement already satisfied: parso<0.9.0,>=0.8.3 in ./env/lib/python3.10/site-packages (from jedi>=0.16->ipython>=6.1.0->ipywidgets) (0.8.3)\n",
      "Requirement already satisfied: ptyprocess>=0.5 in ./env/lib/python3.10/site-packages (from pexpect>4.3->ipython>=6.1.0->ipywidgets) (0.7.0)\n",
      "Requirement already satisfied: wcwidth in ./env/lib/python3.10/site-packages (from prompt-toolkit!=3.0.37,<3.1.0,>=3.0.30->ipython>=6.1.0->ipywidgets) (0.2.8)\n",
      "Requirement already satisfied: executing>=1.2.0 in ./env/lib/python3.10/site-packages (from stack-data->ipython>=6.1.0->ipywidgets) (2.0.0)\n",
      "Requirement already satisfied: asttokens>=2.1.0 in ./env/lib/python3.10/site-packages (from stack-data->ipython>=6.1.0->ipywidgets) (2.4.0)\n",
      "Requirement already satisfied: pure-eval in ./env/lib/python3.10/site-packages (from stack-data->ipython>=6.1.0->ipywidgets) (0.2.2)\n",
      "Requirement already satisfied: six>=1.12.0 in ./env/lib/python3.10/site-packages (from asttokens>=2.1.0->stack-data->ipython>=6.1.0->ipywidgets) (1.16.0)\n",
      "\n",
      "\u001b[1m[\u001b[0m\u001b[34;49mnotice\u001b[0m\u001b[1;39;49m]\u001b[0m\u001b[39;49m A new release of pip is available: \u001b[0m\u001b[31;49m23.2.1\u001b[0m\u001b[39;49m -> \u001b[0m\u001b[32;49m23.3\u001b[0m\n",
      "\u001b[1m[\u001b[0m\u001b[34;49mnotice\u001b[0m\u001b[1;39;49m]\u001b[0m\u001b[39;49m To update, run: \u001b[0m\u001b[32;49mpip install --upgrade pip\u001b[0m\n"
     ]
    }
   ],
   "source": [
    "!pip install ipywidgets"
   ]
  },
  {
   "cell_type": "markdown",
   "metadata": {},
   "source": [
    "### Configure Skyplane with AWS credentials. \n",
    "\n",
    "#### <span style=\"color:red\">Choose `Y` only for AWS, and `n` for GCP and Azure.</span>\n",
    "\n",
    "💻 `skyplane init`\n",
    "\n",
    "```\n",
    " _____ _   ____   _______ _       ___   _   _  _____ \n",
    "/  ___| | / /\\ \\ / / ___ \\ |     / _ \\ | \\ | ||  ___|\n",
    "\\ `--.| |/ /  \\ V /| |_/ / |    / /_\\ \\|  \\| || |__  \n",
    " `--. \\    \\   \\ / |  __/| |    |  _  || . ` ||  __| \n",
    "/\\__/ / |\\  \\  | | | |   | |____| | | || |\\  || |___ \n",
    "\\____/\\_| \\_/  \\_/ \\_|   \\_____/\\_| |_/\\_| \\_/\\____/\n",
    "\n",
    "03:37:54 [DEBUG] Found existing configuration file at /root/.skyplane/config, \n",
    "loading\n",
    "\n",
    "(1) Configuring AWS:\n",
    "    Do you want to configure AWS support in Skyplane? [Y/n]:\n",
    "    Loaded AWS credentials from the AWS CLI [IAM access key ID: ...ZEXYJW]\n",
    "    AWS region config file saved to /root/.skyplane/aws_config\n",
    "\n",
    "(2) Configuring Azure:\n",
    "    Do you want to configure Azure support in Skyplane? [Y/n]: n\n",
    "    Disabling Azure support\n",
    "\n",
    "(3) Configuring GCP:\n",
    "    Do you want to configure GCP support in Skyplane? [Y/n]: n\n",
    "    Disabling Google Cloud support\n",
    "\n",
    "Config file saved to /root/.skyplane/config\n",
    "To disable performance logging info: \n",
    "https://skyplane.org/en/latest/performance_stats_collection.html\n",
    "```\n",
    "\n",
    "\n",
    "> **💡 Hint** - If you run into any issues, please contact one of the Skyplane team members immediately. This step is critical to follow through the tutorial."
   ]
  },
  {
   "cell_type": "markdown",
   "metadata": {},
   "source": [
    "# Transferring Data with Skyplane\n",
    "\n",
    "<p style=\"text-align:center;\">\n",
    "    <img src=\"./assets/skycamp-art.png\" width=700>\n",
    "</p>"
   ]
  },
  {
   "cell_type": "markdown",
   "metadata": {},
   "source": [
    "The core of Skyplane is based around the `cp` command. Suppose you want to train the Stable Diffusion neural network. You’ve just gotten a fresh batch of [LAION](https://laion.ai/blog/laion-400-open-dataset/) dataset, but it is in us-east-1, while your network is in eu-west-1. Skyplane can help you efficiently transfer this data over to wherever your neural network may be so that you can train your model. Let’s prepare for a transfer by first initializing buckets in a few different cloud regions in AWS."
   ]
  },
  {
   "cell_type": "markdown",
   "metadata": {},
   "source": [
    "# Creating Buckets"
   ]
  },
  {
   "cell_type": "markdown",
   "metadata": {},
   "source": [
    "### Setting up AWS in the Destination region\n",
    "\n",
    "First, let’s create a bucket in your source AWS region to store the data for the neural network.\n",
    "\n",
    "> **💡 Hint** - Reminder to replace [name] with a unique string. e.g., \"edcvr\"\n",
    "\n",
    "💻 `aws s3 mb s3://skycamp-diffusion-data-[name] --region eu-west-1`\n",
    "```\n",
    "make_bucket: skycamp-diffusion-data-[name]\n",
    "```"
   ]
  },
  {
   "cell_type": "code",
   "execution_count": 25,
   "metadata": {},
   "outputs": [
    {
     "name": "stdout",
     "output_type": "stream",
     "text": [
      "The autoreload extension is already loaded. To reload it, use:\n",
      "  %reload_ext autoreload\n"
     ]
    }
   ],
   "source": [
    "%load_ext autoreload\n",
    "%autoreload 2"
   ]
  },
  {
   "cell_type": "code",
   "execution_count": 12,
   "metadata": {},
   "outputs": [],
   "source": [
    "bucket_name = \"sarajmybucket1r234\"\n",
    "region_tag = \"aws:us-west-2\""
   ]
  },
  {
   "cell_type": "code",
   "execution_count": 26,
   "metadata": {},
   "outputs": [
    {
     "name": "stdout",
     "output_type": "stream",
     "text": [
      "\u001b[90mLogging to: /tmp/skyplane/transfer_logs/20231018_135238-afd6ef1f/client.log\u001b[0m\n"
     ]
    }
   ],
   "source": [
    "import skyplane\n",
    "client = skyplane.SkyplaneClient()"
   ]
  },
  {
   "cell_type": "code",
   "execution_count": 14,
   "metadata": {},
   "outputs": [
    {
     "data": {
      "text/html": [
       "<pre style=\"white-space:pre;overflow-x:auto;line-height:normal;font-family:Menlo,'DejaVu Sans Mono',consolas,'Courier New',monospace\"><span style=\"color: #00ff00; text-decoration-color: #00ff00; font-weight: bold\">17:58:20</span> <span style=\"font-weight: bold\">[</span>WARN<span style=\"font-weight: bold\">]</span>  <span style=\"color: #808000; text-decoration-color: #808000\">Bucket </span><span style=\"color: #808000; text-decoration-color: #808000; font-weight: bold\">&lt;bound</span><span style=\"color: #808000; text-decoration-color: #808000\"> method S3Interface.bucket of &lt;skyplane.obj_store.s3_interface.S3Interface object at </span>\n",
       "<span style=\"color: #808000; text-decoration-color: #808000; font-weight: bold\">0x13d58e650</span><span style=\"color: #808000; text-decoration-color: #808000\">&gt;</span><span style=\"color: #808000; text-decoration-color: #808000; font-weight: bold\">&gt;</span><span style=\"color: #808000; text-decoration-color: #808000\"> in region us-west-</span><span style=\"color: #808000; text-decoration-color: #808000; font-weight: bold\">2</span><span style=\"color: #808000; text-decoration-color: #808000\"> already exists</span>\n",
       "</pre>\n"
      ],
      "text/plain": [
       "\u001b[1;92m17:58:20\u001b[0m \u001b[1m[\u001b[0mWARN\u001b[1m]\u001b[0m  \u001b[33mBucket \u001b[0m\u001b[1;33m<\u001b[0m\u001b[1;33mbound\u001b[0m\u001b[33m method S3Interface.bucket of <skyplane.obj_store.s3_interface.S3Interface object at \u001b[0m\n",
       "\u001b[1;33m0x13d58e650\u001b[0m\u001b[33m>\u001b[0m\u001b[1;33m>\u001b[0m\u001b[33m in region us-west-\u001b[0m\u001b[1;33m2\u001b[0m\u001b[33m already exists\u001b[0m\n"
      ]
     },
     "metadata": {},
     "output_type": "display_data"
    },
    {
     "data": {
      "text/plain": [
       "'s3://sarajmybucket1r234'"
      ]
     },
     "execution_count": 14,
     "metadata": {},
     "output_type": "execute_result"
    }
   ],
   "source": [
    "bucket_path = client.object_store().create_bucket(region=region_tag, bucket_name=bucket_name)\n",
    "bucket_path"
   ]
  },
  {
   "cell_type": "markdown",
   "metadata": {},
   "source": [
    "# Exercise 1: Copying data between AWS regions"
   ]
  },
  {
   "cell_type": "markdown",
   "metadata": {},
   "source": [
    "Transferring data between AWS regions with `aws s3 cp`"
   ]
  },
  {
   "cell_type": "markdown",
   "metadata": {},
   "source": [
    "Each cloud provider has dedicated tools to move data between cloud regions. Let’s try transferring over the data using AWS’s built in cp command:\n",
    "\n",
    "💻 `aws s3 cp --recursive s3://laion-400m s3://skycamp-diffusion-data-[name]`\n",
    "\n",
    "```\n",
    "copy: s3://stable-diffusion-data/part-00000-5b54c5d5-bbcf-484d-a2ce-0d6f73df1a36-c000.snappy.parquet to s3://skycamp-anton-diffusion-data/part-00000-5b54c5d5-bbcf-484d-a2ce-0d6f73df1a36-c000.snappy.parquet\n",
    "copy: s3://stable-diffusion-data/part-00002-5b54c5d5-bbcf-484d-a2ce-0d6f73df1a36-c000.snappy.parquet to s3://skycamp-anton-diffusion-data/part-00002-5b54c5d5-bbcf-484d-a2ce-0d6f73df1a36-c000.snappy.parquet\n",
    "copy: s3://stable-diffusion-data/part-00005-5b54c5d5-bbcf-484d-a2ce-0d6f73df1a36-c000.snappy.parquet to s3://skycamp-anton-diffusion-data/part-00005-5b54c5d5-bbcf-484d-a2ce-0d6f73df1a36-c000.snappy.parquet\n",
    "copy: s3://stable-diffusion-data/part-00008-5b54c5d5-bbcf-484d-a2ce-0d6f73df1a36-c000.snappy.parquet to s3://skycamp-anton-diffusion-data/part-00008-5b54c5d5-bbcf-484d-a2ce-0d6f73df1a36-c000.snappy.parquet\n",
    "copy: s3://stable-diffusion-data/part-00001-5b54c5d5-bbcf-484d-a2ce-0d6f73df1a36-c000.snappy.parquet to s3://skycamp-anton-diffusion-data/part-00001-5b54c5d5-bbcf-484d-a2ce-0d6f73df1a36-c000.snappy.parquet\n",
    "Completed 4.2 GiB/~15.7 GiB (36.9 MiB/s) with ~12 file(s) remaining (calculating...)\n",
    "\n",
    "```\n",
    "\n",
    "### This will take a long time to complete. Feel free to interrupt the command. Notice that it copies data at under 25 MiB/s.\n"
   ]
  },
  {
   "cell_type": "markdown",
   "metadata": {},
   "source": [
    "# Exercise 2: Let's try the same transfer with Skyplane"
   ]
  },
  {
   "cell_type": "code",
   "execution_count": 27,
   "metadata": {},
   "outputs": [],
   "source": [
    "src_bucket_path = \"s3://skycamp-demo-bucket/gorilla/\""
   ]
  },
  {
   "cell_type": "code",
   "execution_count": 28,
   "metadata": {},
   "outputs": [],
   "source": [
    "bucket_path = \"s3://sarajmybucket1r234\""
   ]
  },
  {
   "cell_type": "code",
   "execution_count": 29,
   "metadata": {},
   "outputs": [
    {
     "data": {
      "text/html": [
       "<pre style=\"white-space:pre;overflow-x:auto;line-height:normal;font-family:Menlo,'DejaVu Sans Mono',consolas,'Courier New',monospace\"><span style=\"color: #008000; text-decoration-color: #008000; font-weight: bold\">✓</span> <span style=\"color: #808080; text-decoration-color: #808080\">Provisioning VMs </span><span style=\"color: #808080; text-decoration-color: #808080; font-weight: bold\">(</span><span style=\"color: #808080; text-decoration-color: #808080; font-weight: bold\">8</span><span style=\"color: #808080; text-decoration-color: #808080\">/</span><span style=\"color: #808080; text-decoration-color: #808080; font-weight: bold\">8</span><span style=\"color: #808080; text-decoration-color: #808080; font-weight: bold\">)</span><span style=\"color: #808080; text-decoration-color: #808080\"> in </span><span style=\"color: #808080; text-decoration-color: #808080; font-weight: bold\">39.</span><span style=\"color: #808080; text-decoration-color: #808080\">56s</span>\n",
       "</pre>\n"
      ],
      "text/plain": [
       "\u001b[1;32m✓\u001b[0m \u001b[90mProvisioning VMs \u001b[0m\u001b[1;90m(\u001b[0m\u001b[1;90m8\u001b[0m\u001b[90m/\u001b[0m\u001b[1;90m8\u001b[0m\u001b[1;90m)\u001b[0m\u001b[90m in \u001b[0m\u001b[1;90m39.\u001b[0m\u001b[90m56s\u001b[0m\n"
      ]
     },
     "metadata": {},
     "output_type": "display_data"
    },
    {
     "data": {
      "text/html": [
       "<pre style=\"white-space:pre;overflow-x:auto;line-height:normal;font-family:Menlo,'DejaVu Sans Mono',consolas,'Courier New',monospace\"><span style=\"color: #008000; text-decoration-color: #008000; font-weight: bold\">✓</span> <span style=\"color: #808080; text-decoration-color: #808080\">Starting gateway container on VMs </span><span style=\"color: #808080; text-decoration-color: #808080; font-weight: bold\">(</span><span style=\"color: #808080; text-decoration-color: #808080; font-weight: bold\">8</span><span style=\"color: #808080; text-decoration-color: #808080\">/</span><span style=\"color: #808080; text-decoration-color: #808080; font-weight: bold\">8</span><span style=\"color: #808080; text-decoration-color: #808080; font-weight: bold\">)</span><span style=\"color: #808080; text-decoration-color: #808080\"> in </span><span style=\"color: #808080; text-decoration-color: #808080; font-weight: bold\">16.</span><span style=\"color: #808080; text-decoration-color: #808080\">73s</span>\n",
       "</pre>\n"
      ],
      "text/plain": [
       "\u001b[1;32m✓\u001b[0m \u001b[90mStarting gateway container on VMs \u001b[0m\u001b[1;90m(\u001b[0m\u001b[1;90m8\u001b[0m\u001b[90m/\u001b[0m\u001b[1;90m8\u001b[0m\u001b[1;90m)\u001b[0m\u001b[90m in \u001b[0m\u001b[1;90m16.\u001b[0m\u001b[90m73s\u001b[0m\n"
      ]
     },
     "metadata": {},
     "output_type": "display_data"
    },
    {
     "data": {
      "application/vnd.jupyter.widget-view+json": {
       "model_id": "",
       "version_major": 2,
       "version_minor": 0
      },
      "text/plain": [
       "Output()"
      ]
     },
     "metadata": {},
     "output_type": "display_data"
    },
    {
     "data": {
      "text/html": [
       "<pre style=\"white-space:pre;overflow-x:auto;line-height:normal;font-family:Menlo,'DejaVu Sans Mono',consolas,'Courier New',monospace\"></pre>\n"
      ],
      "text/plain": []
     },
     "metadata": {},
     "output_type": "display_data"
    },
    {
     "data": {
      "text/html": [
       "<pre style=\"white-space:pre;overflow-x:auto;line-height:normal;font-family:Menlo,'DejaVu Sans Mono',consolas,'Courier New',monospace\">\n",
       "</pre>\n"
      ],
      "text/plain": [
       "\n"
      ]
     },
     "metadata": {},
     "output_type": "display_data"
    },
    {
     "data": {
      "application/vnd.jupyter.widget-view+json": {
       "model_id": "18f5438967a640cb87624f0b7f2d9cfb",
       "version_major": 2,
       "version_minor": 0
      },
      "text/plain": [
       "Output()"
      ]
     },
     "metadata": {},
     "output_type": "display_data"
    },
    {
     "data": {
      "text/html": [
       "<pre style=\"white-space:pre;overflow-x:auto;line-height:normal;font-family:Menlo,'DejaVu Sans Mono',consolas,'Courier New',monospace\"></pre>\n"
      ],
      "text/plain": []
     },
     "metadata": {},
     "output_type": "display_data"
    },
    {
     "data": {
      "text/html": [
       "<pre style=\"white-space:pre;overflow-x:auto;line-height:normal;font-family:Menlo,'DejaVu Sans Mono',consolas,'Courier New',monospace\">\n",
       "</pre>\n"
      ],
      "text/plain": [
       "\n"
      ]
     },
     "metadata": {},
     "output_type": "display_data"
    },
    {
     "data": {
      "text/html": [
       "<pre style=\"white-space:pre;overflow-x:auto;line-height:normal;font-family:Menlo,'DejaVu Sans Mono',consolas,'Courier New',monospace\"><span style=\"color: #008000; text-decoration-color: #008000; font-weight: bold\">✓</span> <span style=\"color: #808080; text-decoration-color: #808080\">Completing multipart uploads </span><span style=\"color: #808080; text-decoration-color: #808080; font-weight: bold\">(</span><span style=\"color: #808080; text-decoration-color: #808080; font-weight: bold\">2</span><span style=\"color: #808080; text-decoration-color: #808080\">/</span><span style=\"color: #808080; text-decoration-color: #808080; font-weight: bold\">2</span><span style=\"color: #808080; text-decoration-color: #808080; font-weight: bold\">)</span><span style=\"color: #808080; text-decoration-color: #808080\"> in </span><span style=\"color: #808080; text-decoration-color: #808080; font-weight: bold\">1.</span><span style=\"color: #808080; text-decoration-color: #808080\">26s</span>\n",
       "</pre>\n"
      ],
      "text/plain": [
       "\u001b[1;32m✓\u001b[0m \u001b[90mCompleting multipart uploads \u001b[0m\u001b[1;90m(\u001b[0m\u001b[1;90m2\u001b[0m\u001b[90m/\u001b[0m\u001b[1;90m2\u001b[0m\u001b[1;90m)\u001b[0m\u001b[90m in \u001b[0m\u001b[1;90m1.\u001b[0m\u001b[90m26s\u001b[0m\n"
      ]
     },
     "metadata": {},
     "output_type": "display_data"
    },
    {
     "name": "stdout",
     "output_type": "stream",
     "text": [
      "\n",
      "✅ \u001b[1;32mTransfer completed successfully\u001b[0m\n",
      "\u001b[37mTransfer runtime:\u001b[0m \u001b[1;90m14.\u001b[0m\u001b[90m49s\u001b[0m, \u001b[37mThroughput:\u001b[0m \u001b[1;90m6.\u001b[0m\u001b[90m84Gbps\u001b[0m\n"
     ]
    }
   ],
   "source": [
    "client.copy(src_bucket_path, bucket_path, recursive=True, max_instances=4)"
   ]
  },
  {
   "cell_type": "markdown",
   "metadata": {},
   "source": [
    "# Exercise 3: Transferring to multiple destinations"
   ]
  },
  {
   "cell_type": "code",
   "execution_count": 19,
   "metadata": {},
   "outputs": [],
   "source": [
    "region_tag2 = \"aws:us-east-1\"\n",
    "bucket_name2 = \"fijldfjd\""
   ]
  },
  {
   "cell_type": "code",
   "execution_count": 20,
   "metadata": {},
   "outputs": [
    {
     "data": {
      "text/plain": [
       "'s3://fijldfjd'"
      ]
     },
     "execution_count": 20,
     "metadata": {},
     "output_type": "execute_result"
    }
   ],
   "source": [
    "bucket2_path = client.object_store().create_bucket(region=region_tag2, bucket_name=bucket_name2)\n",
    "bucket2_path"
   ]
  },
  {
   "cell_type": "code",
   "execution_count": 21,
   "metadata": {},
   "outputs": [
    {
     "data": {
      "text/html": [
       "<pre style=\"white-space:pre;overflow-x:auto;line-height:normal;font-family:Menlo,'DejaVu Sans Mono',consolas,'Courier New',monospace\"><span style=\"color: #008000; text-decoration-color: #008000; font-weight: bold\">✓</span> <span style=\"color: #808080; text-decoration-color: #808080\">Provisioning VMs </span><span style=\"color: #808080; text-decoration-color: #808080; font-weight: bold\">(</span><span style=\"color: #808080; text-decoration-color: #808080; font-weight: bold\">12</span><span style=\"color: #808080; text-decoration-color: #808080\">/</span><span style=\"color: #808080; text-decoration-color: #808080; font-weight: bold\">12</span><span style=\"color: #808080; text-decoration-color: #808080; font-weight: bold\">)</span><span style=\"color: #808080; text-decoration-color: #808080\"> in </span><span style=\"color: #808080; text-decoration-color: #808080; font-weight: bold\">48.</span><span style=\"color: #808080; text-decoration-color: #808080\">52s</span>\n",
       "</pre>\n"
      ],
      "text/plain": [
       "\u001b[1;32m✓\u001b[0m \u001b[90mProvisioning VMs \u001b[0m\u001b[1;90m(\u001b[0m\u001b[1;90m12\u001b[0m\u001b[90m/\u001b[0m\u001b[1;90m12\u001b[0m\u001b[1;90m)\u001b[0m\u001b[90m in \u001b[0m\u001b[1;90m48.\u001b[0m\u001b[90m52s\u001b[0m\n"
      ]
     },
     "metadata": {},
     "output_type": "display_data"
    },
    {
     "data": {
      "text/html": [
       "<pre style=\"white-space:pre;overflow-x:auto;line-height:normal;font-family:Menlo,'DejaVu Sans Mono',consolas,'Courier New',monospace\"><span style=\"color: #008000; text-decoration-color: #008000; font-weight: bold\">✓</span> <span style=\"color: #808080; text-decoration-color: #808080\">Starting gateway container on VMs </span><span style=\"color: #808080; text-decoration-color: #808080; font-weight: bold\">(</span><span style=\"color: #808080; text-decoration-color: #808080; font-weight: bold\">12</span><span style=\"color: #808080; text-decoration-color: #808080\">/</span><span style=\"color: #808080; text-decoration-color: #808080; font-weight: bold\">12</span><span style=\"color: #808080; text-decoration-color: #808080; font-weight: bold\">)</span><span style=\"color: #808080; text-decoration-color: #808080\"> in </span><span style=\"color: #808080; text-decoration-color: #808080; font-weight: bold\">20.</span><span style=\"color: #808080; text-decoration-color: #808080\">63s</span>\n",
       "</pre>\n"
      ],
      "text/plain": [
       "\u001b[1;32m✓\u001b[0m \u001b[90mStarting gateway container on VMs \u001b[0m\u001b[1;90m(\u001b[0m\u001b[1;90m12\u001b[0m\u001b[90m/\u001b[0m\u001b[1;90m12\u001b[0m\u001b[1;90m)\u001b[0m\u001b[90m in \u001b[0m\u001b[1;90m20.\u001b[0m\u001b[90m63s\u001b[0m\n"
      ]
     },
     "metadata": {},
     "output_type": "display_data"
    },
    {
     "data": {
      "application/vnd.jupyter.widget-view+json": {
       "model_id": "",
       "version_major": 2,
       "version_minor": 0
      },
      "text/plain": [
       "Output()"
      ]
     },
     "metadata": {},
     "output_type": "display_data"
    },
    {
     "data": {
      "text/html": [
       "<pre style=\"white-space:pre;overflow-x:auto;line-height:normal;font-family:Menlo,'DejaVu Sans Mono',consolas,'Courier New',monospace\"></pre>\n"
      ],
      "text/plain": []
     },
     "metadata": {},
     "output_type": "display_data"
    },
    {
     "data": {
      "text/html": [
       "<pre style=\"white-space:pre;overflow-x:auto;line-height:normal;font-family:Menlo,'DejaVu Sans Mono',consolas,'Courier New',monospace\">\n",
       "</pre>\n"
      ],
      "text/plain": [
       "\n"
      ]
     },
     "metadata": {},
     "output_type": "display_data"
    },
    {
     "data": {
      "application/vnd.jupyter.widget-view+json": {
       "model_id": "",
       "version_major": 2,
       "version_minor": 0
      },
      "text/plain": [
       "Output()"
      ]
     },
     "metadata": {},
     "output_type": "display_data"
    },
    {
     "data": {
      "text/html": [
       "<pre style=\"white-space:pre;overflow-x:auto;line-height:normal;font-family:Menlo,'DejaVu Sans Mono',consolas,'Courier New',monospace\"></pre>\n"
      ],
      "text/plain": []
     },
     "metadata": {},
     "output_type": "display_data"
    },
    {
     "data": {
      "text/html": [
       "<pre style=\"white-space:pre;overflow-x:auto;line-height:normal;font-family:Menlo,'DejaVu Sans Mono',consolas,'Courier New',monospace\">\n",
       "</pre>\n"
      ],
      "text/plain": [
       "\n"
      ]
     },
     "metadata": {},
     "output_type": "display_data"
    },
    {
     "data": {
      "text/html": [
       "<pre style=\"white-space:pre;overflow-x:auto;line-height:normal;font-family:Menlo,'DejaVu Sans Mono',consolas,'Courier New',monospace\"><span style=\"color: #008000; text-decoration-color: #008000; font-weight: bold\">✓</span> <span style=\"color: #808080; text-decoration-color: #808080\">Completing multipart uploads </span><span style=\"color: #808080; text-decoration-color: #808080; font-weight: bold\">(</span><span style=\"color: #808080; text-decoration-color: #808080; font-weight: bold\">16</span><span style=\"color: #808080; text-decoration-color: #808080\">/</span><span style=\"color: #808080; text-decoration-color: #808080; font-weight: bold\">16</span><span style=\"color: #808080; text-decoration-color: #808080; font-weight: bold\">)</span><span style=\"color: #808080; text-decoration-color: #808080\"> in </span><span style=\"color: #808080; text-decoration-color: #808080; font-weight: bold\">6.</span><span style=\"color: #808080; text-decoration-color: #808080\">56s</span>\n",
       "</pre>\n"
      ],
      "text/plain": [
       "\u001b[1;32m✓\u001b[0m \u001b[90mCompleting multipart uploads \u001b[0m\u001b[1;90m(\u001b[0m\u001b[1;90m16\u001b[0m\u001b[90m/\u001b[0m\u001b[1;90m16\u001b[0m\u001b[1;90m)\u001b[0m\u001b[90m in \u001b[0m\u001b[1;90m6.\u001b[0m\u001b[90m56s\u001b[0m\n"
      ]
     },
     "metadata": {},
     "output_type": "display_data"
    },
    {
     "data": {
      "text/html": [
       "<pre style=\"white-space:pre;overflow-x:auto;line-height:normal;font-family:Menlo,'DejaVu Sans Mono',consolas,'Courier New',monospace\">\n",
       "✅ <span style=\"color: #008000; text-decoration-color: #008000; font-weight: bold\">Transfer completed successfully</span>\n",
       "</pre>\n"
      ],
      "text/plain": [
       "\n",
       "✅ \u001b[1;32mTransfer completed successfully\u001b[0m\n"
      ]
     },
     "metadata": {},
     "output_type": "display_data"
    },
    {
     "data": {
      "text/html": [
       "<pre style=\"white-space:pre;overflow-x:auto;line-height:normal;font-family:Menlo,'DejaVu Sans Mono',consolas,'Courier New',monospace\"><span style=\"color: #c0c0c0; text-decoration-color: #c0c0c0\">Transfer runtime:</span> <span style=\"color: #808080; text-decoration-color: #808080; font-weight: bold\">108.</span><span style=\"color: #808080; text-decoration-color: #808080\">40s</span>, <span style=\"color: #c0c0c0; text-decoration-color: #c0c0c0\">Throughput:</span> <span style=\"color: #808080; text-decoration-color: #808080; font-weight: bold\">9.</span><span style=\"color: #808080; text-decoration-color: #808080\">06Gbps</span>\n",
       "</pre>\n"
      ],
      "text/plain": [
       "\u001b[37mTransfer runtime:\u001b[0m \u001b[1;90m108.\u001b[0m\u001b[90m40s\u001b[0m, \u001b[37mThroughput:\u001b[0m \u001b[1;90m9.\u001b[0m\u001b[90m06Gbps\u001b[0m\n"
      ]
     },
     "metadata": {},
     "output_type": "display_data"
    }
   ],
   "source": [
    "client.copy(src_bucket_path, [bucket_path, bucket2_path], recursive=True, max_instances=4)"
   ]
  },
  {
   "cell_type": "markdown",
   "metadata": {},
   "source": [
    "# Exercise 4: Cleanup "
   ]
  },
  {
   "cell_type": "code",
   "execution_count": null,
   "metadata": {},
   "outputs": [],
   "source": [
    "client.object_store().delete_bucket(bucket_name, provider=\"aws\")"
   ]
  },
  {
   "cell_type": "code",
   "execution_count": 16,
   "metadata": {},
   "outputs": [],
   "source": [
    "client.object_store().delete_bucket(bucket_name2, provider=\"aws\")"
   ]
  },
  {
   "cell_type": "markdown",
   "metadata": {},
   "source": [
    "💻 `skyplane cp --recursive s3://laion-400m s3://skycamp-diffusion-data-[name]`\n",
    "\n",
    "```\n",
    " _____ _   ____   _______ _       ___   _   _  _____\n",
    "/  ___| | / /\\ \\ / / ___ \\ |     / _ \\ | \\ | ||  ___|\n",
    "\\ `--.| |/ /  \\ V /| |_/ / |    / /_\\ \\|  \\| || |__\n",
    " `--. \\    \\   \\ / |  __/| |    |  _  || . ` ||  __|\n",
    "/\\__/ / |\\  \\  | | | |   | |____| | | || |\\  || |___\n",
    "\\____/\\_| \\_/  \\_/ \\_|   \\_____/\\_| |_/\\_| \\_/\\____/\n",
    "\n",
    "\n",
    "Will transfer 32 objects totaling 35.90GB from aws:us-east-1 to aws:us-east-1\n",
    "    VMs to provision: 1x aws:us-east-1\n",
    "    part-00000-5b54c5d5-bbcf-484d-a2ce-0d6f73df1a36-c000.snappy.parquet => part-00000-5b54c5d5-bbcf-484d-a2ce-0d6f73df1a36-c000.snappy.parquet\n",
    "    part-00001-5b54c5d5-bbcf-484d-a2ce-0d6f73df1a36-c000.snappy.parquet => part-00001-5b54c5d5-bbcf-484d-a2ce-0d6f73df1a36-c000.snappy.parquet\n",
    "    ...\n",
    "a2ce-0d6f73df1a36-c000.snappy.parquet\n",
    "    part-00030-5b54c5d5-bbcf-484d-a2ce-0d6f73df1a36-c000.snappy.parquet => part-00030-5b54c5d5-bbcf-484d-a2ce-0d6f73df1a36-c000.snappy.parquet\n",
    "\n",
    "Continue? [Y/n]: Y\n",
    "Transfer starting (Tip: Enable auto-confirmation with `skyplane config set autoconfirm true`)\n",
    "\n",
    "Storing debug information for transfer in /tmp/skyplane/transfer_logs/20221018_205648/client.log\n",
    "✓ Initializing cloud keys (3/3) in 2.84s\n",
    "✓ Provisioning gateway instances (1/1) in 34.48s\n",
    "✓ Installing gateway package (1/1) in 12.41s\n",
    "🚀 35.90GB transfer job launched\n",
    "  Transfer progress (completing multi-part uploads) ━━━━━━━━━━━━━━━━━━━━━━━━━━━━━━━━━━━━━━━━ 35.9/35.9 GiB 602.0 MB/s 0:00:00\n",
    "✓ Deprovisioning instances (1/1) in 2.42s\n",
    "⠙ Verifying all files were copied\n",
    "\n",
    "✅ Transfer completed successfully\n",
    "Transfer runtime: 61.94s, Throughput: 4.64Gbps\n",
    "\n",
    "```\n"
   ]
  },
  {
   "cell_type": "markdown",
   "metadata": {},
   "source": [
    "##  💡  Observe skyplane significantly reduces the time to move data"
   ]
  },
  {
   "cell_type": "markdown",
   "metadata": {},
   "source": [
    "# Exercise 3: Let's scale up transfer bandwidth with Skyplane"
   ]
  },
  {
   "cell_type": "markdown",
   "metadata": {},
   "source": [
    "💻 `skyplane cp -n 4 --recursive s3://laion-400m s3://skycamp-diffusion-data-[name]`\n",
    "\n",
    "```\n",
    " _____ _   ____   _______ _       ___   _   _  _____ \n",
    "/  ___| | / /\\ \\ / / ___ \\ |     / _ \\ | \\ | ||  ___|\n",
    "\\ `--.| |/ /  \\ V /| |_/ / |    / /_\\ \\|  \\| || |__  \n",
    " `--. \\    \\   \\ / |  __/| |    |  _  || . ` ||  __| \n",
    "/\\__/ / |\\  \\  | | | |   | |____| | | || |\\  || |___ \n",
    "\\____/\\_| \\_/  \\_/ \\_|   \\_____/\\_| |_/\\_| \\_/\\____/\n",
    "\n",
    "\n",
    "Will transfer 32 objects totaling 53.75GB from aws:us-east-1 to aws:eu-west-1\n",
    "    VMs to provision: 4x aws:eu-west-1, 4x aws:us-east-1\n",
    "    Estimated egress cost: $1.08 at $0.02/GB\n",
    "    part-00000-5b54c5d5-bbcf-484d-a2ce-0d6f73df1a36-c000.snappy.parquet => part-00000-5b54c5d5-bbcf-484d-a2ce-0d6f73df1a36-c000.snappy.parquet\n",
    "    part-00001-5b54c5d5-bbcf-484d-a2ce-0d6f73df1a36-c000.snappy.parquet => part-00001-5b54c5d5-bbcf-484d-a2ce-0d6f73df1a36-c000.snappy.parquet\n",
    "    ...\n",
    "    part-00031-5b54c5d5-bbcf-484d-a2ce-0d6f73df1a36-c000.snappy.parquet => part-00031-5b54c5d5-bbcf-484d-a2ce-0d6f73df1a36-c000.snappy.parquet\n",
    "Continue? [Y/n]: Y\n",
    "Transfer starting (Tip: Enable auto-confirmation with `skyplane config set autoconfirm true`)\n",
    "\n",
    "Storing debug information for transfer in /tmp/skyplane/transfer_logs/20221019_020117/client.log\n",
    "✓ Initializing cloud keys (3/3) in 3.79s\n",
    "✓ Provisioning gateway instances (8/8) in 43.82s\n",
    "✓ Installing gateway package (8/8) in 28.26s\n",
    "🚀 53.75GB transfer job launched\n",
    "  Transfer progress (completing multi-part uploads) ━━━━━━━━━━━━━━━━━━━━━━━━━━━━━━━━━━━━━━━━ 53.8/53.8 GiB 2.0 GB/s 0:00:00\n",
    "Compression saved 0.20% of egress fees\n",
    "✓ Deprovisioning instances (8/8) in 6.62s\n",
    "⠸ Verifying all files were copied\n",
    "\n",
    "✅ Transfer completed successfully\n",
    "Transfer runtime: 33.09s, Throughput: 12.99Gbps\n",
    "```"
   ]
  },
  {
   "cell_type": "markdown",
   "metadata": {},
   "source": [
    "##  💡  Observe skyplane enables you to scale up transfer throughput by paralellizing data between multiple VMs"
   ]
  },
  {
   "cell_type": "markdown",
   "metadata": {},
   "source": [
    "---"
   ]
  },
  {
   "cell_type": "markdown",
   "metadata": {},
   "source": [
    "# Exercise 4: We will now try another Skyplane feature - syncing data between AWS regions\n",
    "Now, let’s suppose that you have a bucket storing a backup of your dataset, and it already has some of the data there.\n"
   ]
  },
  {
   "cell_type": "markdown",
   "metadata": {},
   "source": [
    "Let’s use Skyplane’s sync command to update the weights, and again compare the time that it takes. \n",
    "\n",
    "\n",
    "💻 `skyplane sync s3://laion-400m s3://skycamp-diffusion-data-[name]`\n",
    "\n",
    "```\n",
    " _____ _   ____   _______ _       ___   _   _  _____ \n",
    "/  ___| | / /\\ \\ / / ___ \\ |     / _ \\ | \\ | ||  ___|\n",
    "\\ `--.| |/ /  \\ V /| |_/ / |    / /_\\ \\|  \\| || |__  \n",
    " `--. \\    \\   \\ / |  __/| |    |  _  || . ` ||  __| \n",
    "/\\__/ / |\\  \\  | | | |   | |____| | | || |\\  || |___ \n",
    "\\____/\\_| \\_/  \\_/ \\_|   \\_____/\\_| |_/\\_| \\_/\\____/\n",
    "\n",
    "No objects need updating. Exiting...\n",
    "```"
   ]
  },
  {
   "cell_type": "markdown",
   "metadata": {},
   "source": [
    "---"
   ]
  },
  {
   "cell_type": "markdown",
   "metadata": {},
   "source": [
    "## 💻 Terminate your cluster!"
   ]
  },
  {
   "cell_type": "markdown",
   "metadata": {},
   "source": [
    "Finally, just to make sure that we don't have any instances running that might be burning up money, let's quickly deprovision everything.\n",
    "\n",
    "💻 `skyplane deprovision`\n",
    "\n",
    "```\n",
    "No instances to deprovision\n",
    "✓ Removing IPs from VPCs (4/4) in 2.05s\n",
    "\n",
    "```"
   ]
  },
  {
   "cell_type": "markdown",
   "metadata": {},
   "source": [
    "## 🎉 Congratulations! Your plane has now landed. Skyplane is an open sourced project. Feel free to use Skyplane for all your data mobility needs!\n"
   ]
  },
  {
   "cell_type": "markdown",
   "metadata": {},
   "source": [
    "#### Eager to learn more? \n",
    "\n",
    "#### Feel free to play-around with the [Skyplane optimizer](https://optimizer.skyplane.org/), read our NSDI 2023 [paper](https://arxiv.org/abs/2210.07259), or browse through our GitHub [repository](https://github.com/skyplane-project/skyplane)."
   ]
  },
  {
   "cell_type": "markdown",
   "metadata": {},
   "source": [
    "Acknowledgement: Thanks to [Skypilot](https://github.com/romilbhardwaj/skypilot-tutorial/) for the notebook template."
   ]
  },
  {
   "cell_type": "code",
   "execution_count": 17,
   "metadata": {},
   "outputs": [
    {
     "data": {
      "application/vnd.jupyter.widget-view+json": {
       "model_id": "10d24676de894eab87892b8f0cab523f",
       "version_major": 2,
       "version_minor": 0
      },
      "text/plain": [
       "Output()"
      ]
     },
     "metadata": {},
     "output_type": "display_data"
    },
    {
     "data": {
      "text/html": [
       "<pre style=\"white-space:pre;overflow-x:auto;line-height:normal;font-family:Menlo,'DejaVu Sans Mono',consolas,'Courier New',monospace\"></pre>\n"
      ],
      "text/plain": []
     },
     "metadata": {},
     "output_type": "display_data"
    },
    {
     "data": {
      "text/html": [
       "<pre style=\"white-space:pre;overflow-x:auto;line-height:normal;font-family:Menlo,'DejaVu Sans Mono',consolas,'Courier New',monospace\">\n",
       "</pre>\n"
      ],
      "text/plain": [
       "\n"
      ]
     },
     "metadata": {},
     "output_type": "display_data"
    }
   ],
   "source": [
    "import time\n",
    "from rich.progress import track\n",
    "\n",
    "for i in track(range(20), description=\"Processing...\"):\n",
    "    time.sleep(1)  # Simulate work being done"
   ]
  },
  {
   "cell_type": "code",
   "execution_count": null,
   "metadata": {},
   "outputs": [],
   "source": []
  }
 ],
 "metadata": {
  "kernelspec": {
   "display_name": "Python 3 (ipykernel)",
   "language": "python",
   "name": "python3"
  },
  "language_info": {
   "codemirror_mode": {
    "name": "ipython",
    "version": 3
   },
   "file_extension": ".py",
   "mimetype": "text/x-python",
   "name": "python",
   "nbconvert_exporter": "python",
   "pygments_lexer": "ipython3",
   "version": "3.10.12"
  }
 },
 "nbformat": 4,
 "nbformat_minor": 4
}
